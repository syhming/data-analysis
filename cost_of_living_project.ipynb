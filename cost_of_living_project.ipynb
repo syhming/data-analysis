{
 "cells": [
  {
   "cell_type": "markdown",
   "metadata": {},
   "source": [
    "---\n",
    "layout: post\n",
    "title: Cost of Living Index 2024 data analysis\n",
    "tags: algorithms python\n",
    "published: true\n",
    "---"
   ]
  },
  {
   "cell_type": "markdown",
   "metadata": {},
   "source": [
    "Cost of Living Index 2024 Data from Kaggle\\\n",
    "https://www.kaggle.com/datasets/myrios/cost-of-living-index-by-country-by-number-2024/data\\\n",
    "About Dataset\n",
    "\n",
    "Cost of Living Index by Country, 2024 Mid Year data\n",
    "Data scraped from Numbeo: www.numbeo.com/cost-of-living/rankings_by_country.jsp\n",
    "All credits to Numbeo: www.numbeo.com/cost-of-living/\n",
    "\n",
    "An index of 100 reflects the same living cost as in New York City, United States.\n",
    "As of 2024 Mid Year data, in NYC,\n",
    "A family of four estimated monthly costs are \\$6,074.40 without rent.\n",
    "A single person's estimated monthly costs are \\$1,640.90 without rent.\n",
    "\n",
    "The cost of living index is relative to New York City. So, a cost of living index of 101.1 for Switzerland is equivalent to 1.1% higher cost of living compared to New York City.\\\n",
    "Source: https://www.numbeo.com/cost-of-living/cpi_explained.jsp \\\n",
    "https://www.numbeo.com/common/motivation_and_methodology.jsp"
   ]
  },
  {
   "cell_type": "code",
   "execution_count": 135,
   "metadata": {},
   "outputs": [],
   "source": [
    "import pandas as pd\n",
    "import seaborn as sns\n",
    "import plotly.express as px\n",
    "import matplotlib.pyplot as plt\n",
    "import plotly.io as pio\n",
    "pio.renderers.default = 'notebook'"
   ]
  },
  {
   "cell_type": "code",
   "execution_count": 136,
   "metadata": {},
   "outputs": [],
   "source": [
    "df = pd.read_csv('archive(1)/Cost_of_Living_Index_by_Country_2024.csv')"
   ]
  },
  {
   "cell_type": "code",
   "execution_count": 137,
   "metadata": {},
   "outputs": [
    {
     "data": {
      "text/html": [
       "<div>\n",
       "<style scoped>\n",
       "    .dataframe tbody tr th:only-of-type {\n",
       "        vertical-align: middle;\n",
       "    }\n",
       "\n",
       "    .dataframe tbody tr th {\n",
       "        vertical-align: top;\n",
       "    }\n",
       "\n",
       "    .dataframe thead th {\n",
       "        text-align: right;\n",
       "    }\n",
       "</style>\n",
       "<table border=\"1\" class=\"dataframe\">\n",
       "  <thead>\n",
       "    <tr style=\"text-align: right;\">\n",
       "      <th></th>\n",
       "      <th>Rank</th>\n",
       "      <th>Country</th>\n",
       "      <th>Cost of Living Index</th>\n",
       "      <th>Rent Index</th>\n",
       "      <th>Cost of Living Plus Rent Index</th>\n",
       "      <th>Groceries Index</th>\n",
       "      <th>Restaurant Price Index</th>\n",
       "      <th>Local Purchasing Power Index</th>\n",
       "    </tr>\n",
       "  </thead>\n",
       "  <tbody>\n",
       "    <tr>\n",
       "      <th>0</th>\n",
       "      <td>1</td>\n",
       "      <td>Switzerland</td>\n",
       "      <td>101.1</td>\n",
       "      <td>46.5</td>\n",
       "      <td>74.9</td>\n",
       "      <td>109.1</td>\n",
       "      <td>97.0</td>\n",
       "      <td>158.7</td>\n",
       "    </tr>\n",
       "    <tr>\n",
       "      <th>1</th>\n",
       "      <td>2</td>\n",
       "      <td>Bahamas</td>\n",
       "      <td>85.0</td>\n",
       "      <td>36.7</td>\n",
       "      <td>61.8</td>\n",
       "      <td>81.6</td>\n",
       "      <td>83.3</td>\n",
       "      <td>54.6</td>\n",
       "    </tr>\n",
       "    <tr>\n",
       "      <th>2</th>\n",
       "      <td>3</td>\n",
       "      <td>Iceland</td>\n",
       "      <td>83.0</td>\n",
       "      <td>39.2</td>\n",
       "      <td>62.0</td>\n",
       "      <td>88.4</td>\n",
       "      <td>86.8</td>\n",
       "      <td>120.3</td>\n",
       "    </tr>\n",
       "    <tr>\n",
       "      <th>3</th>\n",
       "      <td>4</td>\n",
       "      <td>Singapore</td>\n",
       "      <td>76.7</td>\n",
       "      <td>67.2</td>\n",
       "      <td>72.1</td>\n",
       "      <td>74.6</td>\n",
       "      <td>50.4</td>\n",
       "      <td>111.1</td>\n",
       "    </tr>\n",
       "    <tr>\n",
       "      <th>4</th>\n",
       "      <td>5</td>\n",
       "      <td>Barbados</td>\n",
       "      <td>76.6</td>\n",
       "      <td>19.0</td>\n",
       "      <td>48.9</td>\n",
       "      <td>80.8</td>\n",
       "      <td>69.4</td>\n",
       "      <td>43.5</td>\n",
       "    </tr>\n",
       "  </tbody>\n",
       "</table>\n",
       "</div>"
      ],
      "text/plain": [
       "   Rank      Country  Cost of Living Index  Rent Index  \\\n",
       "0     1  Switzerland                 101.1        46.5   \n",
       "1     2      Bahamas                  85.0        36.7   \n",
       "2     3      Iceland                  83.0        39.2   \n",
       "3     4    Singapore                  76.7        67.2   \n",
       "4     5     Barbados                  76.6        19.0   \n",
       "\n",
       "   Cost of Living Plus Rent Index  Groceries Index  Restaurant Price Index  \\\n",
       "0                            74.9            109.1                    97.0   \n",
       "1                            61.8             81.6                    83.3   \n",
       "2                            62.0             88.4                    86.8   \n",
       "3                            72.1             74.6                    50.4   \n",
       "4                            48.9             80.8                    69.4   \n",
       "\n",
       "   Local Purchasing Power Index  \n",
       "0                         158.7  \n",
       "1                          54.6  \n",
       "2                         120.3  \n",
       "3                         111.1  \n",
       "4                          43.5  "
      ]
     },
     "execution_count": 137,
     "metadata": {},
     "output_type": "execute_result"
    }
   ],
   "source": [
    "df.head()"
   ]
  },
  {
   "cell_type": "code",
   "execution_count": 152,
   "metadata": {},
   "outputs": [
    {
     "data": {
      "text/plain": [
       "<matplotlib.legend.Legend at 0x2176dab9220>"
      ]
     },
     "execution_count": 152,
     "metadata": {},
     "output_type": "execute_result"
    },
    {
     "data": {
      "image/png": "[encoded data removed]",
      "text/plain": [
       "<Figure size 640x480 with 1 Axes>"
      ]
     },
     "metadata": {},
     "output_type": "display_data"
    }
   ],
   "source": [
    "cols = ['Cost of Living Index', 'Cost of Living Plus Rent Index', 'Local Purchasing Power Index']\n",
    "cols2 = df.iloc[:, 2:]\n",
    "fig, ax = plt.subplots()\n",
    "for a in cols:\n",
    "    sns.histplot(df, x=a, ax=ax, kde=False, alpha=0.5, ec=None)\n",
    "plt.legend(cols)"
   ]
  },
  {
   "cell_type": "code",
   "execution_count": 139,
   "metadata": {},
   "outputs": [
    {
     "data": {
      "text/plain": [
       "<Axes: xlabel='Cost of Living Plus Rent Index', ylabel='Count'>"
      ]
     },
     "execution_count": 139,
     "metadata": {},
     "output_type": "execute_result"
    },
    {
     "data": {
      "image/png": "[encoded data removed]",
      "text/plain": [
       "<Figure size 640x480 with 1 Axes>"
      ]
     },
     "metadata": {},
     "output_type": "display_data"
    }
   ],
   "source": [
    "sns.histplot(df, x='Cost of Living Plus Rent Index')"
   ]
  },
  {
   "cell_type": "code",
   "execution_count": 140,
   "metadata": {},
   "outputs": [
    {
     "data": {
      "text/plain": [
       "<Axes: xlabel='Local Purchasing Power Index', ylabel='Count'>"
      ]
     },
     "execution_count": 140,
     "metadata": {},
     "output_type": "execute_result"
    },
    {
     "data": {
      "image/png": "[encoded data removed]",
      "text/plain": [
       "<Figure size 640x480 with 1 Axes>"
      ]
     },
     "metadata": {},
     "output_type": "display_data"
    }
   ],
   "source": [
    "sns.histplot(df, x='Local Purchasing Power Index')"
   ]
  },
  {
   "cell_type": "code",
   "execution_count": 161,
   "metadata": {},
   "outputs": [
    {
     "data": {
      "application/vnd.plotly.v1+json": {
       "config": {
        "plotlyServerURL": "https://plot.ly"
       },
       "data": [
        {
         "alignmentgroup": "True",
         "bingroup": "x",
         "hovertemplate": "variable=Cost of Living Index<br>value=%{x}<br>count=%{y}<extra></extra>",
         "legendgroup": "Cost of Living Index",
         "marker": {
          "color": "#636efa",
          "opacity": 0.75,
          "pattern": {
           "shape": ""
          }
         },
         "name": "Cost of Living Index",
         "offsetgroup": "Cost of Living Index",
         "orientation": "v",
         "showlegend": true,
         "type": "histogram",
         "x": [
          101.1,
          85,
          83,
          76.7,
          76.6,
          76,
          72.3,
          70.8,
          70.4,
          70.2,
          65.1,
          64.8,
          64.6,
          64.4,
          63.7,
          63.3,
          63.2,
          63.1,
          62.7,
          62.4,
          62.2,
          62,
          61.1,
          60.1,
          59.3,
          56.2,
          55.8,
          54.7,
          54.1,
          53.9,
          52.8,
          52.6,
          52.3,
          52.3,
          52,
          52,
          51.3,
          49.9,
          49.1,
          47.3,
          47.1,
          46.7,
          46.7,
          46.6,
          46.4,
          46.1,
          45.5,
          45.3,
          45.2,
          45.1,
          42.4,
          42.1,
          42.1,
          41.8,
          41.7,
          41.6,
          41.2,
          41,
          40.8,
          40.2,
          39.5,
          39.4,
          39.1,
          38.8,
          38.3,
          38.3,
          37.9,
          37.7,
          37.5,
          37.4,
          37.3,
          37.3,
          37.2,
          37.1,
          35.4,
          35,
          34.6,
          34.5,
          34.1,
          34,
          33.4,
          33,
          32.6,
          31.7,
          31.7,
          31.4,
          31.2,
          31,
          31,
          30.9,
          30.2,
          30.2,
          30.1,
          30,
          30,
          29.5,
          29.5,
          29.4,
          29.3,
          29.1,
          28.9,
          28.8,
          28.7,
          28.1,
          27.6,
          27.6,
          26.7,
          26.4,
          26.4,
          26.4,
          25.9,
          25.5,
          25.4,
          24.5,
          24,
          23.8,
          22.5,
          21.2,
          21,
          20.4,
          18.8
         ],
         "xaxis": "x",
         "yaxis": "y"
        },
        {
         "alignmentgroup": "True",
         "bingroup": "x",
         "hovertemplate": "variable=Cost of Living Plus Rent Index<br>value=%{x}<br>count=%{y}<extra></extra>",
         "legendgroup": "Cost of Living Plus Rent Index",
         "marker": {
          "color": "#EF553B",
          "opacity": 0.75,
          "pattern": {
           "shape": ""
          }
         },
         "name": "Cost of Living Plus Rent Index",
         "offsetgroup": "Cost of Living Plus Rent Index",
         "orientation": "v",
         "showlegend": true,
         "type": "histogram",
         "x": [
          74.9,
          61.8,
          62,
          72.1,
          48.9,
          52.1,
          50.2,
          65.3,
          56.6,
          52.5,
          44.7,
          49.6,
          46,
          53.8,
          43.2,
          42.3,
          42.4,
          48.9,
          45.6,
          51.9,
          44,
          47.1,
          41.4,
          38.9,
          40.9,
          38.5,
          48.9,
          40.4,
          34.8,
          34.8,
          39.1,
          33.7,
          35.2,
          37,
          33.2,
          34.2,
          44,
          34.9,
          30.9,
          35.6,
          31.9,
          31.4,
          29.9,
          33.3,
          33.8,
          30.4,
          30.3,
          29,
          29.8,
          35,
          27.9,
          32.7,
          27,
          28.1,
          27.1,
          25.5,
          24.9,
          30.5,
          29.5,
          28.4,
          27.6,
          28.1,
          25.7,
          26.3,
          22.7,
          24.9,
          24.8,
          25.6,
          24.2,
          25.8,
          24,
          27.5,
          24.1,
          24.1,
          25.8,
          21.2,
          20.7,
          23.5,
          23.1,
          22.5,
          23.9,
          20.3,
          21.1,
          22.4,
          22.4,
          27,
          20.4,
          19.6,
          20.9,
          21,
          19.5,
          19.8,
          18.5,
          19.3,
          20.2,
          18.9,
          19,
          18.9,
          18.9,
          18.8,
          16.9,
          19.1,
          19.2,
          16.9,
          18,
          19.5,
          17.6,
          17.8,
          19.1,
          17.7,
          17.1,
          15,
          17.6,
          16.5,
          14.2,
          16.4,
          12.8,
          13.7,
          12.7,
          12.7,
          11.1
         ],
         "xaxis": "x",
         "yaxis": "y"
        },
        {
         "alignmentgroup": "True",
         "bingroup": "x",
         "hovertemplate": "variable=Local Purchasing Power Index<br>value=%{x}<br>count=%{y}<extra></extra>",
         "legendgroup": "Local Purchasing Power Index",
         "marker": {
          "color": "#00cc96",
          "opacity": 0.75,
          "pattern": {
           "shape": ""
          }
         },
         "name": "Local Purchasing Power Index",
         "offsetgroup": "Local Purchasing Power Index",
         "orientation": "v",
         "showlegend": true,
         "type": "histogram",
         "x": [
          158.7,
          54.6,
          120.3,
          111.1,
          43.5,
          114.7,
          127.2,
          109.3,
          142.3,
          127.4,
          102.4,
          103.7,
          121,
          101.1,
          102.4,
          103.5,
          118,
          124.9,
          99.4,
          182.5,
          120.2,
          115.2,
          109.8,
          109.4,
          122.6,
          78.3,
          127.9,
          71.4,
          56.3,
          32.7,
          68.1,
          43.7,
          46.2,
          105,
          53,
          80.4,
          161.1,
          80.9,
          66.9,
          92.1,
          75.5,
          68.3,
          2.3,
          84,
          42.2,
          117,
          75,
          134.9,
          95.1,
          56.9,
          139.8,
          161.8,
          39.9,
          25.4,
          63.4,
          46.1,
          45.5,
          38.5,
          85.8,
          45.4,
          31.9,
          52.9,
          45.1,
          34.5,
          14.7,
          68.4,
          28.7,
          50.2,
          63.8,
          49,
          23.9,
          10.5,
          26.1,
          43.2,
          68,
          56.9,
          17.5,
          102.8,
          40.8,
          46.6,
          35.3,
          51,
          41.6,
          44.7,
          73.3,
          11,
          37.2,
          33.3,
          50.6,
          18.4,
          37.2,
          34.2,
          64.4,
          79.9,
          34.8,
          38.6,
          46.7,
          41.5,
          50.4,
          17.8,
          29.9,
          33.7,
          40.5,
          32.2,
          37.9,
          30.7,
          31.7,
          26,
          39.3,
          51.8,
          39.5,
          25.4,
          34.6,
          15.6,
          5.5,
          25.9,
          33.1,
          82.6,
          20,
          42,
          29.1
         ],
         "xaxis": "x",
         "yaxis": "y"
        }
       ],
       "layout": {
        "barmode": "overlay",
        "legend": {
         "title": {
          "text": "variable"
         },
         "tracegroupgap": 0
        },
        "margin": {
         "t": 60
        },
        "template": {
         "data": {
          "bar": [
           {
            "error_x": {
             "color": "#2a3f5f"
            },
            "error_y": {
             "color": "#2a3f5f"
            },
            "marker": {
             "line": {
              "color": "#E5ECF6",
              "width": 0.5
             },
             "pattern": {
              "fillmode": "overlay",
              "size": 10,
              "solidity": 0.2
             }
            },
            "type": "bar"
           }
          ],
          "barpolar": [
           {
            "marker": {
             "line": {
              "color": "#E5ECF6",
              "width": 0.5
             },
             "pattern": {
              "fillmode": "overlay",
              "size": 10,
              "solidity": 0.2
             }
            },
            "type": "barpolar"
           }
          ],
          "carpet": [
           {
            "aaxis": {
             "endlinecolor": "#2a3f5f",
             "gridcolor": "white",
             "linecolor": "white",
             "minorgridcolor": "white",
             "startlinecolor": "#2a3f5f"
            },
            "baxis": {
             "endlinecolor": "#2a3f5f",
             "gridcolor": "white",
             "linecolor": "white",
             "minorgridcolor": "white",
             "startlinecolor": "#2a3f5f"
            },
            "type": "carpet"
           }
          ],
          "choropleth": [
           {
            "colorbar": {
             "outlinewidth": 0,
             "ticks": ""
            },
            "type": "choropleth"
           }
          ],
          "contour": [
           {
            "colorbar": {
             "outlinewidth": 0,
             "ticks": ""
            },
            "colorscale": [
             [
              0,
              "#0d0887"
             ],
             [
              0.1111111111111111,
              "#46039f"
             ],
             [
              0.2222222222222222,
              "#7201a8"
             ],
             [
              0.3333333333333333,
              "#9c179e"
             ],
             [
              0.4444444444444444,
              "#bd3786"
             ],
             [
              0.5555555555555556,
              "#d8576b"
             ],
             [
              0.6666666666666666,
              "#ed7953"
             ],
             [
              0.7777777777777778,
              "#fb9f3a"
             ],
             [
              0.8888888888888888,
              "#fdca26"
             ],
             [
              1,
              "#f0f921"
             ]
            ],
            "type": "contour"
           }
          ],
          "contourcarpet": [
           {
            "colorbar": {
             "outlinewidth": 0,
             "ticks": ""
            },
            "type": "contourcarpet"
           }
          ],
          "heatmap": [
           {
            "colorbar": {
             "outlinewidth": 0,
             "ticks": ""
            },
            "colorscale": [
             [
              0,
              "#0d0887"
             ],
             [
              0.1111111111111111,
              "#46039f"
             ],
             [
              0.2222222222222222,
              "#7201a8"
             ],
             [
              0.3333333333333333,
              "#9c179e"
             ],
             [
              0.4444444444444444,
              "#bd3786"
             ],
             [
              0.5555555555555556,
              "#d8576b"
             ],
             [
              0.6666666666666666,
              "#ed7953"
             ],
             [
              0.7777777777777778,
              "#fb9f3a"
             ],
             [
              0.8888888888888888,
              "#fdca26"
             ],
             [
              1,
              "#f0f921"
             ]
            ],
            "type": "heatmap"
           }
          ],
          "heatmapgl": [
           {
            "colorbar": {
             "outlinewidth": 0,
             "ticks": ""
            },
            "colorscale": [
             [
              0,
              "#0d0887"
             ],
             [
              0.1111111111111111,
              "#46039f"
             ],
             [
              0.2222222222222222,
              "#7201a8"
             ],
             [
              0.3333333333333333,
              "#9c179e"
             ],
             [
              0.4444444444444444,
              "#bd3786"
             ],
             [
              0.5555555555555556,
              "#d8576b"
             ],
             [
              0.6666666666666666,
              "#ed7953"
             ],
             [
              0.7777777777777778,
              "#fb9f3a"
             ],
             [
              0.8888888888888888,
              "#fdca26"
             ],
             [
              1,
              "#f0f921"
             ]
            ],
            "type": "heatmapgl"
           }
          ],
          "histogram": [
           {
            "marker": {
             "pattern": {
              "fillmode": "overlay",
              "size": 10,
              "solidity": 0.2
             }
            },
            "type": "histogram"
           }
          ],
          "histogram2d": [
           {
            "colorbar": {
             "outlinewidth": 0,
             "ticks": ""
            },
            "colorscale": [
             [
              0,
              "#0d0887"
             ],
             [
              0.1111111111111111,
              "#46039f"
             ],
             [
              0.2222222222222222,
              "#7201a8"
             ],
             [
              0.3333333333333333,
              "#9c179e"
             ],
             [
              0.4444444444444444,
              "#bd3786"
             ],
             [
              0.5555555555555556,
              "#d8576b"
             ],
             [
              0.6666666666666666,
              "#ed7953"
             ],
             [
              0.7777777777777778,
              "#fb9f3a"
             ],
             [
              0.8888888888888888,
              "#fdca26"
             ],
             [
              1,
              "#f0f921"
             ]
            ],
            "type": "histogram2d"
           }
          ],
          "histogram2dcontour": [
           {
            "colorbar": {
             "outlinewidth": 0,
             "ticks": ""
            },
            "colorscale": [
             [
              0,
              "#0d0887"
             ],
             [
              0.1111111111111111,
              "#46039f"
             ],
             [
              0.2222222222222222,
              "#7201a8"
             ],
             [
              0.3333333333333333,
              "#9c179e"
             ],
             [
              0.4444444444444444,
              "#bd3786"
             ],
             [
              0.5555555555555556,
              "#d8576b"
             ],
             [
              0.6666666666666666,
              "#ed7953"
             ],
             [
              0.7777777777777778,
              "#fb9f3a"
             ],
             [
              0.8888888888888888,
              "#fdca26"
             ],
             [
              1,
              "#f0f921"
             ]
            ],
            "type": "histogram2dcontour"
           }
          ],
          "mesh3d": [
           {
            "colorbar": {
             "outlinewidth": 0,
             "ticks": ""
            },
            "type": "mesh3d"
           }
          ],
          "parcoords": [
           {
            "line": {
             "colorbar": {
              "outlinewidth": 0,
              "ticks": ""
             }
            },
            "type": "parcoords"
           }
          ],
          "pie": [
           {
            "automargin": true,
            "type": "pie"
           }
          ],
          "scatter": [
           {
            "fillpattern": {
             "fillmode": "overlay",
             "size": 10,
             "solidity": 0.2
            },
            "type": "scatter"
           }
          ],
          "scatter3d": [
           {
            "line": {
             "colorbar": {
              "outlinewidth": 0,
              "ticks": ""
             }
            },
            "marker": {
             "colorbar": {
              "outlinewidth": 0,
              "ticks": ""
             }
            },
            "type": "scatter3d"
           }
          ],
          "scattercarpet": [
           {
            "marker": {
             "colorbar": {
              "outlinewidth": 0,
              "ticks": ""
             }
            },
            "type": "scattercarpet"
           }
          ],
          "scattergeo": [
           {
            "marker": {
             "colorbar": {
              "outlinewidth": 0,
              "ticks": ""
             }
            },
            "type": "scattergeo"
           }
          ],
          "scattergl": [
           {
            "marker": {
             "colorbar": {
              "outlinewidth": 0,
              "ticks": ""
             }
            },
            "type": "scattergl"
           }
          ],
          "scattermapbox": [
           {
            "marker": {
             "colorbar": {
              "outlinewidth": 0,
              "ticks": ""
             }
            },
            "type": "scattermapbox"
           }
          ],
          "scatterpolar": [
           {
            "marker": {
             "colorbar": {
              "outlinewidth": 0,
              "ticks": ""
             }
            },
            "type": "scatterpolar"
           }
          ],
          "scatterpolargl": [
           {
            "marker": {
             "colorbar": {
              "outlinewidth": 0,
              "ticks": ""
             }
            },
            "type": "scatterpolargl"
           }
          ],
          "scatterternary": [
           {
            "marker": {
             "colorbar": {
              "outlinewidth": 0,
              "ticks": ""
             }
            },
            "type": "scatterternary"
           }
          ],
          "surface": [
           {
            "colorbar": {
             "outlinewidth": 0,
             "ticks": ""
            },
            "colorscale": [
             [
              0,
              "#0d0887"
             ],
             [
              0.1111111111111111,
              "#46039f"
             ],
             [
              0.2222222222222222,
              "#7201a8"
             ],
             [
              0.3333333333333333,
              "#9c179e"
             ],
             [
              0.4444444444444444,
              "#bd3786"
             ],
             [
              0.5555555555555556,
              "#d8576b"
             ],
             [
              0.6666666666666666,
              "#ed7953"
             ],
             [
              0.7777777777777778,
              "#fb9f3a"
             ],
             [
              0.8888888888888888,
              "#fdca26"
             ],
             [
              1,
              "#f0f921"
             ]
            ],
            "type": "surface"
           }
          ],
          "table": [
           {
            "cells": {
             "fill": {
              "color": "#EBF0F8"
             },
             "line": {
              "color": "white"
             }
            },
            "header": {
             "fill": {
              "color": "#C8D4E3"
             },
             "line": {
              "color": "white"
             }
            },
            "type": "table"
           }
          ]
         },
         "layout": {
          "annotationdefaults": {
           "arrowcolor": "#2a3f5f",
           "arrowhead": 0,
           "arrowwidth": 1
          },
          "autotypenumbers": "strict",
          "coloraxis": {
           "colorbar": {
            "outlinewidth": 0,
            "ticks": ""
           }
          },
          "colorscale": {
           "diverging": [
            [
             0,
             "#8e0152"
            ],
            [
             0.1,
             "#c51b7d"
            ],
            [
             0.2,
             "#de77ae"
            ],
            [
             0.3,
             "#f1b6da"
            ],
            [
             0.4,
             "#fde0ef"
            ],
            [
             0.5,
             "#f7f7f7"
            ],
            [
             0.6,
             "#e6f5d0"
            ],
            [
             0.7,
             "#b8e186"
            ],
            [
             0.8,
             "#7fbc41"
            ],
            [
             0.9,
             "#4d9221"
            ],
            [
             1,
             "#276419"
            ]
           ],
           "sequential": [
            [
             0,
             "#0d0887"
            ],
            [
             0.1111111111111111,
             "#46039f"
            ],
            [
             0.2222222222222222,
             "#7201a8"
            ],
            [
             0.3333333333333333,
             "#9c179e"
            ],
            [
             0.4444444444444444,
             "#bd3786"
            ],
            [
             0.5555555555555556,
             "#d8576b"
            ],
            [
             0.6666666666666666,
             "#ed7953"
            ],
            [
             0.7777777777777778,
             "#fb9f3a"
            ],
            [
             0.8888888888888888,
             "#fdca26"
            ],
            [
             1,
             "#f0f921"
            ]
           ],
           "sequentialminus": [
            [
             0,
             "#0d0887"
            ],
            [
             0.1111111111111111,
             "#46039f"
            ],
            [
             0.2222222222222222,
             "#7201a8"
            ],
            [
             0.3333333333333333,
             "#9c179e"
            ],
            [
             0.4444444444444444,
             "#bd3786"
            ],
            [
             0.5555555555555556,
             "#d8576b"
            ],
            [
             0.6666666666666666,
             "#ed7953"
            ],
            [
             0.7777777777777778,
             "#fb9f3a"
            ],
            [
             0.8888888888888888,
             "#fdca26"
            ],
            [
             1,
             "#f0f921"
            ]
           ]
          },
          "colorway": [
           "#636efa",
           "#EF553B",
           "#00cc96",
           "#ab63fa",
           "#FFA15A",
           "#19d3f3",
           "#FF6692",
           "#B6E880",
           "#FF97FF",
           "#FECB52"
          ],
          "font": {
           "color": "#2a3f5f"
          },
          "geo": {
           "bgcolor": "white",
           "lakecolor": "white",
           "landcolor": "#E5ECF6",
           "showlakes": true,
           "showland": true,
           "subunitcolor": "white"
          },
          "hoverlabel": {
           "align": "left"
          },
          "hovermode": "closest",
          "mapbox": {
           "style": "light"
          },
          "paper_bgcolor": "white",
          "plot_bgcolor": "#E5ECF6",
          "polar": {
           "angularaxis": {
            "gridcolor": "white",
            "linecolor": "white",
            "ticks": ""
           },
           "bgcolor": "#E5ECF6",
           "radialaxis": {
            "gridcolor": "white",
            "linecolor": "white",
            "ticks": ""
           }
          },
          "scene": {
           "xaxis": {
            "backgroundcolor": "#E5ECF6",
            "gridcolor": "white",
            "gridwidth": 2,
            "linecolor": "white",
            "showbackground": true,
            "ticks": "",
            "zerolinecolor": "white"
           },
           "yaxis": {
            "backgroundcolor": "#E5ECF6",
            "gridcolor": "white",
            "gridwidth": 2,
            "linecolor": "white",
            "showbackground": true,
            "ticks": "",
            "zerolinecolor": "white"
           },
           "zaxis": {
            "backgroundcolor": "#E5ECF6",
            "gridcolor": "white",
            "gridwidth": 2,
            "linecolor": "white",
            "showbackground": true,
            "ticks": "",
            "zerolinecolor": "white"
           }
          },
          "shapedefaults": {
           "line": {
            "color": "#2a3f5f"
           }
          },
          "ternary": {
           "aaxis": {
            "gridcolor": "white",
            "linecolor": "white",
            "ticks": ""
           },
           "baxis": {
            "gridcolor": "white",
            "linecolor": "white",
            "ticks": ""
           },
           "bgcolor": "#E5ECF6",
           "caxis": {
            "gridcolor": "white",
            "linecolor": "white",
            "ticks": ""
           }
          },
          "title": {
           "x": 0.05
          },
          "xaxis": {
           "automargin": true,
           "gridcolor": "white",
           "linecolor": "white",
           "ticks": "",
           "title": {
            "standoff": 15
           },
           "zerolinecolor": "white",
           "zerolinewidth": 2
          },
          "yaxis": {
           "automargin": true,
           "gridcolor": "white",
           "linecolor": "white",
           "ticks": "",
           "title": {
            "standoff": 15
           },
           "zerolinecolor": "white",
           "zerolinewidth": 2
          }
         }
        },
        "xaxis": {
         "anchor": "y",
         "domain": [
          0,
          1
         ],
         "title": {
          "text": "value"
         }
        },
        "yaxis": {
         "anchor": "x",
         "domain": [
          0,
          1
         ],
         "title": {
          "text": "count"
         }
        }
       }
      }
     },
     "metadata": {},
     "output_type": "display_data"
    }
   ],
   "source": [
    "px.histogram(df, x=['Cost of Living Index', \n",
    "                    'Cost of Living Plus Rent Index', \n",
    "                    'Local Purchasing Power Index'],\n",
    "                    opacity=0.75,\n",
    "                    barmode='overlay',\n",
    "                    hover_data='Country')"
   ]
  },
  {
   "cell_type": "markdown",
   "metadata": {},
   "source": [
    "Most countries have lower cost of living including rent or not including rent compared to New York City."
   ]
  },
  {
   "cell_type": "code",
   "execution_count": 142,
   "metadata": {},
   "outputs": [],
   "source": [
    "\n",
    "#categorizing the countries into continents\n",
    "continents = {\n",
    "    \n",
    "    'Switzerland': 'Europe',\n",
    "    'Iceland': 'Europe',\n",
    "    'Norway': 'Europe',\n",
    "    'Denmark': 'Europe',\n",
    "    'Austria': 'Europe',\n",
    "    'Ireland': 'Europe',\n",
    "    'France': 'Europe',\n",
    "    'Finland': 'Europe',\n",
    "    'Netherlands': 'Europe',\n",
    "    'Luxembourg': 'Europe',\n",
    "    'Germany': 'Europe',\n",
    "    'United Kingdom': 'Europe',\n",
    "    'Belgium': 'Europe',\n",
    "    'Sweden': 'Europe',\n",
    "    'Italy': 'Europe',\n",
    "    'Cyprus': 'Europe',\n",
    "    'Malta': 'Europe',\n",
    "    'Greece': 'Europe',\n",
    "    'Estonia': 'Europe',\n",
    "    'Slovenia': 'Europe',\n",
    "    'Latvia': 'Europe',\n",
    "    'Spain': 'Europe',\n",
    "    'Lithuania': 'Europe',\n",
    "    'Slovakia': 'Europe',\n",
    "    'Czech Republic': 'Europe',\n",
    "    'Croatia': 'Europe',\n",
    "    'Portugal': 'Europe',\n",
    "    'Albania': 'Europe',\n",
    "    'Hungary': 'Europe',\n",
    "    'Poland': 'Europe',\n",
    "    'Montenegro': 'Europe',\n",
    "    'Bulgaria': 'Europe',\n",
    "    'Serbia': 'Europe',\n",
    "    'Romania': 'Europe',\n",
    "    'Turkey': 'Europe',\n",
    "    'Bosnia And Herzegovina': 'Europe',\n",
    "    'Moldova': 'Europe',\n",
    "    'Georgia': 'Europe',\n",
    "    'North Macedonia': 'Europe',\n",
    "    'Kosovo (Disputed Territory)': 'Europe',\n",
    "    'Belarus': 'Europe',\n",
    "    'Ukraine': 'Europe',\n",
    "\n",
    "    'Israel': 'Middle East',\n",
    "    'United Arab Emirates': 'Middle East',\n",
    "    'Bahrain': 'Middle East',\n",
    "    'Qatar': 'Middle East',\n",
    "    'Saudi Arabia': 'Middle East',\n",
    "    'Oman': 'Middle East',\n",
    "    'Kuwait': 'Middle East',\n",
    "    'Lebanon': 'Middle East',\n",
    "    'Palestine': 'Middle East',\n",
    "    'Jordan': 'Middle East',\n",
    "    'Armenia': 'Middle East',\n",
    "    'Azerbaijan': 'Middle East',\n",
    "    'Iraq': 'Middle East',\n",
    "    'Iran': 'Middle East',\n",
    "    'Syria': 'Middle East',\n",
    "    \n",
    "    'Bahamas': 'North America',\n",
    "    'Barbados': 'North America',\n",
    "    'United States': 'North America',\n",
    "    'Canada': 'North America',\n",
    "    'Puerto Rico': 'North America',\n",
    "    'Jamaica': 'North America',\n",
    "    'Trinidad And Tobago': 'North America',\n",
    "    'Costa Rica': 'North America',\n",
    "    'Cuba': 'North America',\n",
    "    'Panama': 'North America',\n",
    "    'Mexico': 'North America',\n",
    "    'Guatemala': 'North America',\n",
    "    'Dominican Republic': 'North America',\n",
    "    \n",
    "    'Uruguay': 'South America',\n",
    "    'El Salvador': 'South America',\n",
    "    'Chile': 'South America',\n",
    "    'Venezuela': 'South America',\n",
    "    'Ecuador': 'South America',\n",
    "    'Brazil': 'South America',\n",
    "    'Peru': 'South America',\n",
    "    'Argentina': 'South America',\n",
    "    'Colombia': 'South America',\n",
    "    'Bolivia': 'South America',\n",
    "    'Paraguay': 'South America',\n",
    "\n",
    "    'Singapore': 'Asia',\n",
    "    'Hong Kong (China)': 'Asia',\n",
    "    'South Korea': 'Asia',\n",
    "    'Japan': 'Asia',\n",
    "    'Taiwan': 'Asia',\n",
    "    'Cambodia': 'Asia',\n",
    "    'Sri Lanka': 'Asia',\n",
    "    'Thailand': 'Asia',\n",
    "    'Kazakhstan': 'Asia',\n",
    "    'China': 'Asia',\n",
    "    'Philippines': 'Asia',\n",
    "    'Russia': 'Asia',\n",
    "    'Malaysia': 'Asia',\n",
    "    'Vietnam': 'Asia',\n",
    "    'Kyrgyzstan': 'Asia',\n",
    "    'Indonesia': 'Asia',\n",
    "    'Uzbekistan': 'Asia',\n",
    "    'Nepal': 'Asia',\n",
    "    'Bangladesh': 'Asia',\n",
    "    'India': 'Asia',\n",
    "    'Pakistan': 'Asia',\n",
    "\n",
    "    'Cameroon': 'Africa',\n",
    "    'Zimbabwe': 'Africa',\n",
    "    'Mauritius': 'Africa',\n",
    "    'South Africa': 'Africa',\n",
    "    'Nigeria': 'Africa',\n",
    "    'Ghana': 'Africa',\n",
    "    'Kenya': 'Africa',\n",
    "    'Botswana': 'Africa',\n",
    "    'Morocco': 'Africa',\n",
    "    'Uganda': 'Africa',\n",
    "    'Algeria': 'Africa',\n",
    "    'Tunisia': 'Africa',\n",
    "    'Madagascar': 'Africa',\n",
    "    'Tanzania': 'Africa',\n",
    "    'Egypt': 'Africa',\n",
    "    'Libya': 'Africa',\n",
    "\n",
    "    'Australia': 'Oceania',\n",
    "    'New Zealand': 'Oceania',\n",
    "    'Fiji': 'Oceania'\n",
    "\n",
    "}\n"
   ]
  },
  {
   "cell_type": "code",
   "execution_count": 143,
   "metadata": {},
   "outputs": [],
   "source": [
    "continents_color = {\n",
    "    'Europe': 'red',\n",
    "    'Middle East': 'blue',\n",
    "    'North America': 'green',\n",
    "    'South America': 'purple',\n",
    "    'Asia': 'turquoise',\n",
    "    'Africa': 'gold',\n",
    "    'Oceania': 'pink'\n",
    "}"
   ]
  },
  {
   "cell_type": "code",
   "execution_count": 144,
   "metadata": {},
   "outputs": [],
   "source": [
    "df['Continent'] = df['Country'].map(continents)"
   ]
  },
  {
   "cell_type": "code",
   "execution_count": 167,
   "metadata": {},
   "outputs": [
    {
     "data": {
      "text/html": [
       "<div>\n",
       "<style scoped>\n",
       "    .dataframe tbody tr th:only-of-type {\n",
       "        vertical-align: middle;\n",
       "    }\n",
       "\n",
       "    .dataframe tbody tr th {\n",
       "        vertical-align: top;\n",
       "    }\n",
       "\n",
       "    .dataframe thead th {\n",
       "        text-align: right;\n",
       "    }\n",
       "</style>\n",
       "<table border=\"1\" class=\"dataframe\">\n",
       "  <thead>\n",
       "    <tr style=\"text-align: right;\">\n",
       "      <th></th>\n",
       "      <th>Rank</th>\n",
       "      <th>Country</th>\n",
       "      <th>Cost of Living Index</th>\n",
       "      <th>Rent Index</th>\n",
       "      <th>Cost of Living Plus Rent Index</th>\n",
       "      <th>Groceries Index</th>\n",
       "      <th>Restaurant Price Index</th>\n",
       "      <th>Local Purchasing Power Index</th>\n",
       "      <th>Continent</th>\n",
       "    </tr>\n",
       "  </thead>\n",
       "  <tbody>\n",
       "    <tr>\n",
       "      <th>116</th>\n",
       "      <td>117</td>\n",
       "      <td>Bangladesh</td>\n",
       "      <td>22.5</td>\n",
       "      <td>2.4</td>\n",
       "      <td>12.8</td>\n",
       "      <td>25.7</td>\n",
       "      <td>12.8</td>\n",
       "      <td>33.1</td>\n",
       "      <td>Asia</td>\n",
       "    </tr>\n",
       "    <tr>\n",
       "      <th>117</th>\n",
       "      <td>118</td>\n",
       "      <td>India</td>\n",
       "      <td>21.2</td>\n",
       "      <td>5.6</td>\n",
       "      <td>13.7</td>\n",
       "      <td>23.8</td>\n",
       "      <td>15.1</td>\n",
       "      <td>82.6</td>\n",
       "      <td>Asia</td>\n",
       "    </tr>\n",
       "    <tr>\n",
       "      <th>118</th>\n",
       "      <td>119</td>\n",
       "      <td>Egypt</td>\n",
       "      <td>21.0</td>\n",
       "      <td>3.7</td>\n",
       "      <td>12.7</td>\n",
       "      <td>21.2</td>\n",
       "      <td>16.2</td>\n",
       "      <td>20.0</td>\n",
       "      <td>Africa</td>\n",
       "    </tr>\n",
       "    <tr>\n",
       "      <th>119</th>\n",
       "      <td>120</td>\n",
       "      <td>Libya</td>\n",
       "      <td>20.4</td>\n",
       "      <td>4.3</td>\n",
       "      <td>12.7</td>\n",
       "      <td>22.2</td>\n",
       "      <td>15.2</td>\n",
       "      <td>42.0</td>\n",
       "      <td>Africa</td>\n",
       "    </tr>\n",
       "    <tr>\n",
       "      <th>120</th>\n",
       "      <td>121</td>\n",
       "      <td>Pakistan</td>\n",
       "      <td>18.8</td>\n",
       "      <td>2.8</td>\n",
       "      <td>11.1</td>\n",
       "      <td>17.5</td>\n",
       "      <td>12.9</td>\n",
       "      <td>29.1</td>\n",
       "      <td>Asia</td>\n",
       "    </tr>\n",
       "  </tbody>\n",
       "</table>\n",
       "</div>"
      ],
      "text/plain": [
       "     Rank     Country  Cost of Living Index  Rent Index  \\\n",
       "116   117  Bangladesh                  22.5         2.4   \n",
       "117   118       India                  21.2         5.6   \n",
       "118   119       Egypt                  21.0         3.7   \n",
       "119   120       Libya                  20.4         4.3   \n",
       "120   121    Pakistan                  18.8         2.8   \n",
       "\n",
       "     Cost of Living Plus Rent Index  Groceries Index  Restaurant Price Index  \\\n",
       "116                            12.8             25.7                    12.8   \n",
       "117                            13.7             23.8                    15.1   \n",
       "118                            12.7             21.2                    16.2   \n",
       "119                            12.7             22.2                    15.2   \n",
       "120                            11.1             17.5                    12.9   \n",
       "\n",
       "     Local Purchasing Power Index Continent  \n",
       "116                          33.1      Asia  \n",
       "117                          82.6      Asia  \n",
       "118                          20.0    Africa  \n",
       "119                          42.0    Africa  \n",
       "120                          29.1      Asia  "
      ]
     },
     "execution_count": 167,
     "metadata": {},
     "output_type": "execute_result"
    }
   ],
   "source": [
    "df.tail()"
   ]
  },
  {
   "cell_type": "code",
   "execution_count": 146,
   "metadata": {},
   "outputs": [
    {
     "data": {
      "application/vnd.plotly.v1+json": {
       "config": {
        "plotlyServerURL": "https://plot.ly"
       },
       "data": [
        {
         "hovertemplate": "<b>%{hovertext}</b><br><br>Continent=Europe<br>Cost of Living Index=%{x}<br>Local Purchasing Power Index=%{y}<extra></extra>",
         "hovertext": [
          "Switzerland",
          "Iceland",
          "Norway",
          "Denmark",
          "Austria",
          "Ireland",
          "France",
          "Finland",
          "Netherlands",
          "Luxembourg",
          "Germany",
          "United Kingdom",
          "Belgium",
          "Sweden",
          "Italy",
          "Cyprus",
          "Malta",
          "Greece",
          "Estonia",
          "Slovenia",
          "Latvia",
          "Spain",
          "Lithuania",
          "Slovakia",
          "Czech Republic",
          "Croatia",
          "Portugal",
          "Albania",
          "Hungary",
          "Poland",
          "Montenegro",
          "Bulgaria",
          "Serbia",
          "Romania",
          "Turkey",
          "Bosnia And Herzegovina",
          "Moldova",
          "Georgia",
          "North Macedonia",
          "Kosovo (Disputed Territory)",
          "Belarus",
          "Ukraine"
         ],
         "legendgroup": "Europe",
         "marker": {
          "color": "#636efa",
          "symbol": "circle"
         },
         "mode": "markers",
         "name": "Europe",
         "orientation": "v",
         "showlegend": true,
         "type": "scatter",
         "x": [
          101.1,
          83,
          76,
          72.3,
          65.1,
          64.4,
          63.7,
          63.2,
          63.1,
          62.4,
          62.2,
          62,
          61.1,
          59.3,
          56.2,
          54.7,
          52.8,
          52,
          52,
          49.9,
          49.1,
          47.3,
          47.1,
          46.7,
          46.6,
          45.5,
          45.1,
          42.1,
          41.7,
          40.8,
          39.4,
          38.3,
          37.7,
          37.5,
          37.4,
          35,
          34,
          33.4,
          33,
          29.5,
          26.4,
          25.9
         ],
         "xaxis": "x",
         "y": [
          158.7,
          120.3,
          114.7,
          127.2,
          102.4,
          101.1,
          102.4,
          118,
          124.9,
          182.5,
          120.2,
          115.2,
          109.8,
          122.6,
          78.3,
          71.4,
          68.1,
          53,
          80.4,
          80.9,
          66.9,
          92.1,
          75.5,
          68.3,
          84,
          75,
          56.9,
          39.9,
          63.4,
          85.8,
          52.9,
          68.4,
          50.2,
          63.8,
          49,
          56.9,
          46.6,
          35.3,
          51,
          46.7,
          51.8,
          39.5
         ],
         "yaxis": "y"
        },
        {
         "hovertemplate": "<b>%{hovertext}</b><br><br>Continent=North America<br>Cost of Living Index=%{x}<br>Local Purchasing Power Index=%{y}<extra></extra>",
         "hovertext": [
          "Bahamas",
          "Barbados",
          "United States",
          "Canada",
          "Puerto Rico",
          "Jamaica",
          "Trinidad And Tobago",
          "Costa Rica",
          "Cuba",
          "Panama",
          "Mexico",
          "Guatemala",
          "Dominican Republic"
         ],
         "legendgroup": "North America",
         "marker": {
          "color": "#EF553B",
          "symbol": "circle"
         },
         "mode": "markers",
         "name": "North America",
         "orientation": "v",
         "showlegend": true,
         "type": "scatter",
         "x": [
          85,
          76.6,
          70.4,
          64.8,
          63.3,
          53.9,
          52.6,
          52.3,
          46.7,
          46.4,
          40.2,
          38.8,
          37.9
         ],
         "xaxis": "x",
         "y": [
          54.6,
          43.5,
          142.3,
          103.7,
          103.5,
          32.7,
          43.7,
          46.2,
          2.3,
          42.2,
          45.4,
          34.5,
          28.7
         ],
         "yaxis": "y"
        },
        {
         "hovertemplate": "<b>%{hovertext}</b><br><br>Continent=Asia<br>Cost of Living Index=%{x}<br>Local Purchasing Power Index=%{y}<extra></extra>",
         "hovertext": [
          "Singapore",
          "Hong Kong (China)",
          "South Korea",
          "Japan",
          "Taiwan",
          "Cambodia",
          "Sri Lanka",
          "Thailand",
          "Kazakhstan",
          "China",
          "Philippines",
          "Russia",
          "Malaysia",
          "Vietnam",
          "Kyrgyzstan",
          "Indonesia",
          "Uzbekistan",
          "Nepal",
          "Bangladesh",
          "India",
          "Pakistan"
         ],
         "legendgroup": "Asia",
         "marker": {
          "color": "#00cc96",
          "symbol": "circle"
         },
         "mode": "markers",
         "name": "Asia",
         "orientation": "v",
         "showlegend": true,
         "type": "scatter",
         "x": [
          76.7,
          70.8,
          60.1,
          46.1,
          45.2,
          37.3,
          34.6,
          34.1,
          31.7,
          31.7,
          31,
          31,
          30,
          28.7,
          27.6,
          26.7,
          26.4,
          25.5,
          22.5,
          21.2,
          18.8
         ],
         "xaxis": "x",
         "y": [
          111.1,
          109.3,
          109.4,
          117,
          95.1,
          23.9,
          17.5,
          40.8,
          44.7,
          73.3,
          33.3,
          50.6,
          79.9,
          40.5,
          30.7,
          31.7,
          39.3,
          25.4,
          33.1,
          82.6,
          29.1
         ],
         "yaxis": "y"
        },
        {
         "hovertemplate": "<b>%{hovertext}</b><br><br>Continent=Oceania<br>Cost of Living Index=%{x}<br>Local Purchasing Power Index=%{y}<extra></extra>",
         "hovertext": [
          "Australia",
          "New Zealand",
          "Fiji"
         ],
         "legendgroup": "Oceania",
         "marker": {
          "color": "#ab63fa",
          "symbol": "circle"
         },
         "mode": "markers",
         "name": "Oceania",
         "orientation": "v",
         "showlegend": true,
         "type": "scatter",
         "x": [
          70.2,
          64.6,
          35.4
         ],
         "xaxis": "x",
         "y": [
          127.4,
          121,
          68
         ],
         "yaxis": "y"
        },
        {
         "hovertemplate": "<b>%{hovertext}</b><br><br>Continent=Middle East<br>Cost of Living Index=%{x}<br>Local Purchasing Power Index=%{y}<extra></extra>",
         "hovertext": [
          "Israel",
          "United Arab Emirates",
          "Bahrain",
          "Qatar",
          "Saudi Arabia",
          "Oman",
          "Kuwait",
          "Lebanon",
          "Palestine",
          "Jordan",
          "Armenia",
          "Azerbaijan",
          "Iraq",
          "Iran",
          "Syria"
         ],
         "legendgroup": "Middle East",
         "marker": {
          "color": "#FFA15A",
          "symbol": "circle"
         },
         "mode": "markers",
         "name": "Middle East",
         "orientation": "v",
         "showlegend": true,
         "type": "scatter",
         "x": [
          62.7,
          55.8,
          52.3,
          51.3,
          45.3,
          42.4,
          42.1,
          41.8,
          41.6,
          41.2,
          41,
          31.2,
          29.3,
          26.4,
          24
         ],
         "xaxis": "x",
         "y": [
          99.4,
          127.9,
          105,
          161.1,
          134.9,
          139.8,
          161.8,
          25.4,
          46.1,
          45.5,
          38.5,
          37.2,
          50.4,
          26,
          5.5
         ],
         "yaxis": "y"
        },
        {
         "hovertemplate": "<b>%{hovertext}</b><br><br>Continent=South America<br>Cost of Living Index=%{x}<br>Local Purchasing Power Index=%{y}<extra></extra>",
         "hovertext": [
          "Uruguay",
          "El Salvador",
          "Chile",
          "Venezuela",
          "Ecuador",
          "Brazil",
          "Peru",
          "Argentina",
          "Colombia",
          "Bolivia",
          "Paraguay"
         ],
         "legendgroup": "South America",
         "marker": {
          "color": "#19d3f3",
          "symbol": "circle"
         },
         "mode": "markers",
         "name": "South America",
         "orientation": "v",
         "showlegend": true,
         "type": "scatter",
         "x": [
          54.1,
          39.5,
          39.1,
          38.3,
          32.6,
          30.2,
          30,
          29.4,
          28.8,
          27.6,
          25.4
         ],
         "xaxis": "x",
         "y": [
          56.3,
          31.9,
          45.1,
          14.7,
          41.6,
          37.2,
          34.8,
          41.5,
          33.7,
          37.9,
          34.6
         ],
         "yaxis": "y"
        },
        {
         "hovertemplate": "<b>%{hovertext}</b><br><br>Continent=Africa<br>Cost of Living Index=%{x}<br>Local Purchasing Power Index=%{y}<extra></extra>",
         "hovertext": [
          "Cameroon",
          "Zimbabwe",
          "Mauritius",
          "South Africa",
          "Nigeria",
          "Ghana",
          "Kenya",
          "Botswana",
          "Morocco",
          "Uganda",
          "Algeria",
          "Tunisia",
          "Madagascar",
          "Tanzania",
          "Egypt",
          "Libya"
         ],
         "legendgroup": "Africa",
         "marker": {
          "color": "#FF6692",
          "symbol": "circle"
         },
         "mode": "markers",
         "name": "Africa",
         "orientation": "v",
         "showlegend": true,
         "type": "scatter",
         "x": [
          37.3,
          37.2,
          37.1,
          34.5,
          31.4,
          30.9,
          30.2,
          30.1,
          29.5,
          29.1,
          28.9,
          28.1,
          24.5,
          23.8,
          21,
          20.4
         ],
         "xaxis": "x",
         "y": [
          10.5,
          26.1,
          43.2,
          102.8,
          11,
          18.4,
          34.2,
          64.4,
          38.6,
          17.8,
          29.9,
          32.2,
          15.6,
          25.9,
          20,
          42
         ],
         "yaxis": "y"
        }
       ],
       "layout": {
        "legend": {
         "title": {
          "text": "Continent"
         },
         "tracegroupgap": 0
        },
        "template": {
         "data": {
          "bar": [
           {
            "error_x": {
             "color": "#2a3f5f"
            },
            "error_y": {
             "color": "#2a3f5f"
            },
            "marker": {
             "line": {
              "color": "#E5ECF6",
              "width": 0.5
             },
             "pattern": {
              "fillmode": "overlay",
              "size": 10,
              "solidity": 0.2
             }
            },
            "type": "bar"
           }
          ],
          "barpolar": [
           {
            "marker": {
             "line": {
              "color": "#E5ECF6",
              "width": 0.5
             },
             "pattern": {
              "fillmode": "overlay",
              "size": 10,
              "solidity": 0.2
             }
            },
            "type": "barpolar"
           }
          ],
          "carpet": [
           {
            "aaxis": {
             "endlinecolor": "#2a3f5f",
             "gridcolor": "white",
             "linecolor": "white",
             "minorgridcolor": "white",
             "startlinecolor": "#2a3f5f"
            },
            "baxis": {
             "endlinecolor": "#2a3f5f",
             "gridcolor": "white",
             "linecolor": "white",
             "minorgridcolor": "white",
             "startlinecolor": "#2a3f5f"
            },
            "type": "carpet"
           }
          ],
          "choropleth": [
           {
            "colorbar": {
             "outlinewidth": 0,
             "ticks": ""
            },
            "type": "choropleth"
           }
          ],
          "contour": [
           {
            "colorbar": {
             "outlinewidth": 0,
             "ticks": ""
            },
            "colorscale": [
             [
              0,
              "#0d0887"
             ],
             [
              0.1111111111111111,
              "#46039f"
             ],
             [
              0.2222222222222222,
              "#7201a8"
             ],
             [
              0.3333333333333333,
              "#9c179e"
             ],
             [
              0.4444444444444444,
              "#bd3786"
             ],
             [
              0.5555555555555556,
              "#d8576b"
             ],
             [
              0.6666666666666666,
              "#ed7953"
             ],
             [
              0.7777777777777778,
              "#fb9f3a"
             ],
             [
              0.8888888888888888,
              "#fdca26"
             ],
             [
              1,
              "#f0f921"
             ]
            ],
            "type": "contour"
           }
          ],
          "contourcarpet": [
           {
            "colorbar": {
             "outlinewidth": 0,
             "ticks": ""
            },
            "type": "contourcarpet"
           }
          ],
          "heatmap": [
           {
            "colorbar": {
             "outlinewidth": 0,
             "ticks": ""
            },
            "colorscale": [
             [
              0,
              "#0d0887"
             ],
             [
              0.1111111111111111,
              "#46039f"
             ],
             [
              0.2222222222222222,
              "#7201a8"
             ],
             [
              0.3333333333333333,
              "#9c179e"
             ],
             [
              0.4444444444444444,
              "#bd3786"
             ],
             [
              0.5555555555555556,
              "#d8576b"
             ],
             [
              0.6666666666666666,
              "#ed7953"
             ],
             [
              0.7777777777777778,
              "#fb9f3a"
             ],
             [
              0.8888888888888888,
              "#fdca26"
             ],
             [
              1,
              "#f0f921"
             ]
            ],
            "type": "heatmap"
           }
          ],
          "heatmapgl": [
           {
            "colorbar": {
             "outlinewidth": 0,
             "ticks": ""
            },
            "colorscale": [
             [
              0,
              "#0d0887"
             ],
             [
              0.1111111111111111,
              "#46039f"
             ],
             [
              0.2222222222222222,
              "#7201a8"
             ],
             [
              0.3333333333333333,
              "#9c179e"
             ],
             [
              0.4444444444444444,
              "#bd3786"
             ],
             [
              0.5555555555555556,
              "#d8576b"
             ],
             [
              0.6666666666666666,
              "#ed7953"
             ],
             [
              0.7777777777777778,
              "#fb9f3a"
             ],
             [
              0.8888888888888888,
              "#fdca26"
             ],
             [
              1,
              "#f0f921"
             ]
            ],
            "type": "heatmapgl"
           }
          ],
          "histogram": [
           {
            "marker": {
             "pattern": {
              "fillmode": "overlay",
              "size": 10,
              "solidity": 0.2
             }
            },
            "type": "histogram"
           }
          ],
          "histogram2d": [
           {
            "colorbar": {
             "outlinewidth": 0,
             "ticks": ""
            },
            "colorscale": [
             [
              0,
              "#0d0887"
             ],
             [
              0.1111111111111111,
              "#46039f"
             ],
             [
              0.2222222222222222,
              "#7201a8"
             ],
             [
              0.3333333333333333,
              "#9c179e"
             ],
             [
              0.4444444444444444,
              "#bd3786"
             ],
             [
              0.5555555555555556,
              "#d8576b"
             ],
             [
              0.6666666666666666,
              "#ed7953"
             ],
             [
              0.7777777777777778,
              "#fb9f3a"
             ],
             [
              0.8888888888888888,
              "#fdca26"
             ],
             [
              1,
              "#f0f921"
             ]
            ],
            "type": "histogram2d"
           }
          ],
          "histogram2dcontour": [
           {
            "colorbar": {
             "outlinewidth": 0,
             "ticks": ""
            },
            "colorscale": [
             [
              0,
              "#0d0887"
             ],
             [
              0.1111111111111111,
              "#46039f"
             ],
             [
              0.2222222222222222,
              "#7201a8"
             ],
             [
              0.3333333333333333,
              "#9c179e"
             ],
             [
              0.4444444444444444,
              "#bd3786"
             ],
             [
              0.5555555555555556,
              "#d8576b"
             ],
             [
              0.6666666666666666,
              "#ed7953"
             ],
             [
              0.7777777777777778,
              "#fb9f3a"
             ],
             [
              0.8888888888888888,
              "#fdca26"
             ],
             [
              1,
              "#f0f921"
             ]
            ],
            "type": "histogram2dcontour"
           }
          ],
          "mesh3d": [
           {
            "colorbar": {
             "outlinewidth": 0,
             "ticks": ""
            },
            "type": "mesh3d"
           }
          ],
          "parcoords": [
           {
            "line": {
             "colorbar": {
              "outlinewidth": 0,
              "ticks": ""
             }
            },
            "type": "parcoords"
           }
          ],
          "pie": [
           {
            "automargin": true,
            "type": "pie"
           }
          ],
          "scatter": [
           {
            "fillpattern": {
             "fillmode": "overlay",
             "size": 10,
             "solidity": 0.2
            },
            "type": "scatter"
           }
          ],
          "scatter3d": [
           {
            "line": {
             "colorbar": {
              "outlinewidth": 0,
              "ticks": ""
             }
            },
            "marker": {
             "colorbar": {
              "outlinewidth": 0,
              "ticks": ""
             }
            },
            "type": "scatter3d"
           }
          ],
          "scattercarpet": [
           {
            "marker": {
             "colorbar": {
              "outlinewidth": 0,
              "ticks": ""
             }
            },
            "type": "scattercarpet"
           }
          ],
          "scattergeo": [
           {
            "marker": {
             "colorbar": {
              "outlinewidth": 0,
              "ticks": ""
             }
            },
            "type": "scattergeo"
           }
          ],
          "scattergl": [
           {
            "marker": {
             "colorbar": {
              "outlinewidth": 0,
              "ticks": ""
             }
            },
            "type": "scattergl"
           }
          ],
          "scattermapbox": [
           {
            "marker": {
             "colorbar": {
              "outlinewidth": 0,
              "ticks": ""
             }
            },
            "type": "scattermapbox"
           }
          ],
          "scatterpolar": [
           {
            "marker": {
             "colorbar": {
              "outlinewidth": 0,
              "ticks": ""
             }
            },
            "type": "scatterpolar"
           }
          ],
          "scatterpolargl": [
           {
            "marker": {
             "colorbar": {
              "outlinewidth": 0,
              "ticks": ""
             }
            },
            "type": "scatterpolargl"
           }
          ],
          "scatterternary": [
           {
            "marker": {
             "colorbar": {
              "outlinewidth": 0,
              "ticks": ""
             }
            },
            "type": "scatterternary"
           }
          ],
          "surface": [
           {
            "colorbar": {
             "outlinewidth": 0,
             "ticks": ""
            },
            "colorscale": [
             [
              0,
              "#0d0887"
             ],
             [
              0.1111111111111111,
              "#46039f"
             ],
             [
              0.2222222222222222,
              "#7201a8"
             ],
             [
              0.3333333333333333,
              "#9c179e"
             ],
             [
              0.4444444444444444,
              "#bd3786"
             ],
             [
              0.5555555555555556,
              "#d8576b"
             ],
             [
              0.6666666666666666,
              "#ed7953"
             ],
             [
              0.7777777777777778,
              "#fb9f3a"
             ],
             [
              0.8888888888888888,
              "#fdca26"
             ],
             [
              1,
              "#f0f921"
             ]
            ],
            "type": "surface"
           }
          ],
          "table": [
           {
            "cells": {
             "fill": {
              "color": "#EBF0F8"
             },
             "line": {
              "color": "white"
             }
            },
            "header": {
             "fill": {
              "color": "#C8D4E3"
             },
             "line": {
              "color": "white"
             }
            },
            "type": "table"
           }
          ]
         },
         "layout": {
          "annotationdefaults": {
           "arrowcolor": "#2a3f5f",
           "arrowhead": 0,
           "arrowwidth": 1
          },
          "autotypenumbers": "strict",
          "coloraxis": {
           "colorbar": {
            "outlinewidth": 0,
            "ticks": ""
           }
          },
          "colorscale": {
           "diverging": [
            [
             0,
             "#8e0152"
            ],
            [
             0.1,
             "#c51b7d"
            ],
            [
             0.2,
             "#de77ae"
            ],
            [
             0.3,
             "#f1b6da"
            ],
            [
             0.4,
             "#fde0ef"
            ],
            [
             0.5,
             "#f7f7f7"
            ],
            [
             0.6,
             "#e6f5d0"
            ],
            [
             0.7,
             "#b8e186"
            ],
            [
             0.8,
             "#7fbc41"
            ],
            [
             0.9,
             "#4d9221"
            ],
            [
             1,
             "#276419"
            ]
           ],
           "sequential": [
            [
             0,
             "#0d0887"
            ],
            [
             0.1111111111111111,
             "#46039f"
            ],
            [
             0.2222222222222222,
             "#7201a8"
            ],
            [
             0.3333333333333333,
             "#9c179e"
            ],
            [
             0.4444444444444444,
             "#bd3786"
            ],
            [
             0.5555555555555556,
             "#d8576b"
            ],
            [
             0.6666666666666666,
             "#ed7953"
            ],
            [
             0.7777777777777778,
             "#fb9f3a"
            ],
            [
             0.8888888888888888,
             "#fdca26"
            ],
            [
             1,
             "#f0f921"
            ]
           ],
           "sequentialminus": [
            [
             0,
             "#0d0887"
            ],
            [
             0.1111111111111111,
             "#46039f"
            ],
            [
             0.2222222222222222,
             "#7201a8"
            ],
            [
             0.3333333333333333,
             "#9c179e"
            ],
            [
             0.4444444444444444,
             "#bd3786"
            ],
            [
             0.5555555555555556,
             "#d8576b"
            ],
            [
             0.6666666666666666,
             "#ed7953"
            ],
            [
             0.7777777777777778,
             "#fb9f3a"
            ],
            [
             0.8888888888888888,
             "#fdca26"
            ],
            [
             1,
             "#f0f921"
            ]
           ]
          },
          "colorway": [
           "#636efa",
           "#EF553B",
           "#00cc96",
           "#ab63fa",
           "#FFA15A",
           "#19d3f3",
           "#FF6692",
           "#B6E880",
           "#FF97FF",
           "#FECB52"
          ],
          "font": {
           "color": "#2a3f5f"
          },
          "geo": {
           "bgcolor": "white",
           "lakecolor": "white",
           "landcolor": "#E5ECF6",
           "showlakes": true,
           "showland": true,
           "subunitcolor": "white"
          },
          "hoverlabel": {
           "align": "left"
          },
          "hovermode": "closest",
          "mapbox": {
           "style": "light"
          },
          "paper_bgcolor": "white",
          "plot_bgcolor": "#E5ECF6",
          "polar": {
           "angularaxis": {
            "gridcolor": "white",
            "linecolor": "white",
            "ticks": ""
           },
           "bgcolor": "#E5ECF6",
           "radialaxis": {
            "gridcolor": "white",
            "linecolor": "white",
            "ticks": ""
           }
          },
          "scene": {
           "xaxis": {
            "backgroundcolor": "#E5ECF6",
            "gridcolor": "white",
            "gridwidth": 2,
            "linecolor": "white",
            "showbackground": true,
            "ticks": "",
            "zerolinecolor": "white"
           },
           "yaxis": {
            "backgroundcolor": "#E5ECF6",
            "gridcolor": "white",
            "gridwidth": 2,
            "linecolor": "white",
            "showbackground": true,
            "ticks": "",
            "zerolinecolor": "white"
           },
           "zaxis": {
            "backgroundcolor": "#E5ECF6",
            "gridcolor": "white",
            "gridwidth": 2,
            "linecolor": "white",
            "showbackground": true,
            "ticks": "",
            "zerolinecolor": "white"
           }
          },
          "shapedefaults": {
           "line": {
            "color": "#2a3f5f"
           }
          },
          "ternary": {
           "aaxis": {
            "gridcolor": "white",
            "linecolor": "white",
            "ticks": ""
           },
           "baxis": {
            "gridcolor": "white",
            "linecolor": "white",
            "ticks": ""
           },
           "bgcolor": "#E5ECF6",
           "caxis": {
            "gridcolor": "white",
            "linecolor": "white",
            "ticks": ""
           }
          },
          "title": {
           "x": 0.05
          },
          "xaxis": {
           "automargin": true,
           "gridcolor": "white",
           "linecolor": "white",
           "ticks": "",
           "title": {
            "standoff": 15
           },
           "zerolinecolor": "white",
           "zerolinewidth": 2
          },
          "yaxis": {
           "automargin": true,
           "gridcolor": "white",
           "linecolor": "white",
           "ticks": "",
           "title": {
            "standoff": 15
           },
           "zerolinecolor": "white",
           "zerolinewidth": 2
          }
         }
        },
        "title": {
         "text": "Local Purchasing Power Index by Cost of Living Index"
        },
        "xaxis": {
         "anchor": "y",
         "domain": [
          0,
          1
         ],
         "range": [
          0,
          200
         ],
         "title": {
          "text": "Cost of Living Index"
         }
        },
        "yaxis": {
         "anchor": "x",
         "domain": [
          0,
          1
         ],
         "range": [
          0,
          200
         ],
         "title": {
          "text": "Local Purchasing Power Index"
         }
        }
       }
      }
     },
     "metadata": {},
     "output_type": "display_data"
    }
   ],
   "source": [
    "px.scatter(df, x='Cost of Living Index', \n",
    "           y='Local Purchasing Power Index', \n",
    "           color='Continent',\n",
    "           range_x=(0,200), \n",
    "           range_y=(0,200),\n",
    "           hover_name='Country',\n",
    "           title='Local Purchasing Power Index by Cost of Living Index')"
   ]
  },
  {
   "cell_type": "code",
   "execution_count": 150,
   "metadata": {},
   "outputs": [
    {
     "data": {
      "application/vnd.plotly.v1+json": {
       "config": {
        "plotlyServerURL": "https://plot.ly"
       },
       "data": [
        {
         "hovertemplate": "<b>%{hovertext}</b><br><br>Continent=Europe<br>Cost of Living Plus Rent Index=%{x}<br>Local Purchasing Power Index=%{y}<extra></extra>",
         "hovertext": [
          "Switzerland",
          "Iceland",
          "Norway",
          "Denmark",
          "Austria",
          "Ireland",
          "France",
          "Finland",
          "Netherlands",
          "Luxembourg",
          "Germany",
          "United Kingdom",
          "Belgium",
          "Sweden",
          "Italy",
          "Cyprus",
          "Malta",
          "Greece",
          "Estonia",
          "Slovenia",
          "Latvia",
          "Spain",
          "Lithuania",
          "Slovakia",
          "Czech Republic",
          "Croatia",
          "Portugal",
          "Albania",
          "Hungary",
          "Poland",
          "Montenegro",
          "Bulgaria",
          "Serbia",
          "Romania",
          "Turkey",
          "Bosnia And Herzegovina",
          "Moldova",
          "Georgia",
          "North Macedonia",
          "Kosovo (Disputed Territory)",
          "Belarus",
          "Ukraine"
         ],
         "legendgroup": "Europe",
         "marker": {
          "color": "#636efa",
          "symbol": "circle"
         },
         "mode": "markers",
         "name": "Europe",
         "orientation": "v",
         "showlegend": true,
         "type": "scatter",
         "x": [
          74.9,
          62,
          52.1,
          50.2,
          44.7,
          53.8,
          43.2,
          42.4,
          48.9,
          51.9,
          44,
          47.1,
          41.4,
          40.9,
          38.5,
          40.4,
          39.1,
          33.2,
          34.2,
          34.9,
          30.9,
          35.6,
          31.9,
          31.4,
          33.3,
          30.3,
          35,
          27,
          27.1,
          29.5,
          28.1,
          24.9,
          25.6,
          24.2,
          25.8,
          21.2,
          22.5,
          23.9,
          20.3,
          19,
          17.7,
          17.1
         ],
         "xaxis": "x",
         "y": [
          158.7,
          120.3,
          114.7,
          127.2,
          102.4,
          101.1,
          102.4,
          118,
          124.9,
          182.5,
          120.2,
          115.2,
          109.8,
          122.6,
          78.3,
          71.4,
          68.1,
          53,
          80.4,
          80.9,
          66.9,
          92.1,
          75.5,
          68.3,
          84,
          75,
          56.9,
          39.9,
          63.4,
          85.8,
          52.9,
          68.4,
          50.2,
          63.8,
          49,
          56.9,
          46.6,
          35.3,
          51,
          46.7,
          51.8,
          39.5
         ],
         "yaxis": "y"
        },
        {
         "hovertemplate": "<b>%{hovertext}</b><br><br>Continent=North America<br>Cost of Living Plus Rent Index=%{x}<br>Local Purchasing Power Index=%{y}<extra></extra>",
         "hovertext": [
          "Bahamas",
          "Barbados",
          "United States",
          "Canada",
          "Puerto Rico",
          "Jamaica",
          "Trinidad And Tobago",
          "Costa Rica",
          "Cuba",
          "Panama",
          "Mexico",
          "Guatemala",
          "Dominican Republic"
         ],
         "legendgroup": "North America",
         "marker": {
          "color": "#EF553B",
          "symbol": "circle"
         },
         "mode": "markers",
         "name": "North America",
         "orientation": "v",
         "showlegend": true,
         "type": "scatter",
         "x": [
          61.8,
          48.9,
          56.6,
          49.6,
          42.3,
          34.8,
          33.7,
          35.2,
          29.9,
          33.8,
          28.4,
          26.3,
          24.8
         ],
         "xaxis": "x",
         "y": [
          54.6,
          43.5,
          142.3,
          103.7,
          103.5,
          32.7,
          43.7,
          46.2,
          2.3,
          42.2,
          45.4,
          34.5,
          28.7
         ],
         "yaxis": "y"
        },
        {
         "hovertemplate": "<b>%{hovertext}</b><br><br>Continent=Asia<br>Cost of Living Plus Rent Index=%{x}<br>Local Purchasing Power Index=%{y}<extra></extra>",
         "hovertext": [
          "Singapore",
          "Hong Kong (China)",
          "South Korea",
          "Japan",
          "Taiwan",
          "Cambodia",
          "Sri Lanka",
          "Thailand",
          "Kazakhstan",
          "China",
          "Philippines",
          "Russia",
          "Malaysia",
          "Vietnam",
          "Kyrgyzstan",
          "Indonesia",
          "Uzbekistan",
          "Nepal",
          "Bangladesh",
          "India",
          "Pakistan"
         ],
         "legendgroup": "Asia",
         "marker": {
          "color": "#00cc96",
          "symbol": "circle"
         },
         "mode": "markers",
         "name": "Asia",
         "orientation": "v",
         "showlegend": true,
         "type": "scatter",
         "x": [
          72.1,
          65.3,
          38.9,
          30.4,
          29.8,
          24,
          20.7,
          23.1,
          22.4,
          22.4,
          19.6,
          20.9,
          19.3,
          19.2,
          19.5,
          17.6,
          19.1,
          15,
          12.8,
          13.7,
          11.1
         ],
         "xaxis": "x",
         "y": [
          111.1,
          109.3,
          109.4,
          117,
          95.1,
          23.9,
          17.5,
          40.8,
          44.7,
          73.3,
          33.3,
          50.6,
          79.9,
          40.5,
          30.7,
          31.7,
          39.3,
          25.4,
          33.1,
          82.6,
          29.1
         ],
         "yaxis": "y"
        },
        {
         "hovertemplate": "<b>%{hovertext}</b><br><br>Continent=Oceania<br>Cost of Living Plus Rent Index=%{x}<br>Local Purchasing Power Index=%{y}<extra></extra>",
         "hovertext": [
          "Australia",
          "New Zealand",
          "Fiji"
         ],
         "legendgroup": "Oceania",
         "marker": {
          "color": "#ab63fa",
          "symbol": "circle"
         },
         "mode": "markers",
         "name": "Oceania",
         "orientation": "v",
         "showlegend": true,
         "type": "scatter",
         "x": [
          52.5,
          46,
          25.8
         ],
         "xaxis": "x",
         "y": [
          127.4,
          121,
          68
         ],
         "yaxis": "y"
        },
        {
         "hovertemplate": "<b>%{hovertext}</b><br><br>Continent=Middle East<br>Cost of Living Plus Rent Index=%{x}<br>Local Purchasing Power Index=%{y}<extra></extra>",
         "hovertext": [
          "Israel",
          "United Arab Emirates",
          "Bahrain",
          "Qatar",
          "Saudi Arabia",
          "Oman",
          "Kuwait",
          "Lebanon",
          "Palestine",
          "Jordan",
          "Armenia",
          "Azerbaijan",
          "Iraq",
          "Iran",
          "Syria"
         ],
         "legendgroup": "Middle East",
         "marker": {
          "color": "#FFA15A",
          "symbol": "circle"
         },
         "mode": "markers",
         "name": "Middle East",
         "orientation": "v",
         "showlegend": true,
         "type": "scatter",
         "x": [
          45.6,
          48.9,
          37,
          44,
          29,
          27.9,
          32.7,
          28.1,
          25.5,
          24.9,
          30.5,
          20.4,
          18.9,
          17.8,
          14.2
         ],
         "xaxis": "x",
         "y": [
          99.4,
          127.9,
          105,
          161.1,
          134.9,
          139.8,
          161.8,
          25.4,
          46.1,
          45.5,
          38.5,
          37.2,
          50.4,
          26,
          5.5
         ],
         "yaxis": "y"
        },
        {
         "hovertemplate": "<b>%{hovertext}</b><br><br>Continent=South America<br>Cost of Living Plus Rent Index=%{x}<br>Local Purchasing Power Index=%{y}<extra></extra>",
         "hovertext": [
          "Uruguay",
          "El Salvador",
          "Chile",
          "Venezuela",
          "Ecuador",
          "Brazil",
          "Peru",
          "Argentina",
          "Colombia",
          "Bolivia",
          "Paraguay"
         ],
         "legendgroup": "South America",
         "marker": {
          "color": "#19d3f3",
          "symbol": "circle"
         },
         "mode": "markers",
         "name": "South America",
         "orientation": "v",
         "showlegend": true,
         "type": "scatter",
         "x": [
          34.8,
          27.6,
          25.7,
          22.7,
          21.1,
          19.5,
          20.2,
          18.9,
          19.1,
          18,
          17.6
         ],
         "xaxis": "x",
         "y": [
          56.3,
          31.9,
          45.1,
          14.7,
          41.6,
          37.2,
          34.8,
          41.5,
          33.7,
          37.9,
          34.6
         ],
         "yaxis": "y"
        },
        {
         "hovertemplate": "<b>%{hovertext}</b><br><br>Continent=Africa<br>Cost of Living Plus Rent Index=%{x}<br>Local Purchasing Power Index=%{y}<extra></extra>",
         "hovertext": [
          "Cameroon",
          "Zimbabwe",
          "Mauritius",
          "South Africa",
          "Nigeria",
          "Ghana",
          "Kenya",
          "Botswana",
          "Morocco",
          "Uganda",
          "Algeria",
          "Tunisia",
          "Madagascar",
          "Tanzania",
          "Egypt",
          "Libya"
         ],
         "legendgroup": "Africa",
         "marker": {
          "color": "#FF6692",
          "symbol": "circle"
         },
         "mode": "markers",
         "name": "Africa",
         "orientation": "v",
         "showlegend": true,
         "type": "scatter",
         "x": [
          27.5,
          24.1,
          24.1,
          23.5,
          27,
          21,
          19.8,
          18.5,
          18.9,
          18.8,
          16.9,
          16.9,
          16.5,
          16.4,
          12.7,
          12.7
         ],
         "xaxis": "x",
         "y": [
          10.5,
          26.1,
          43.2,
          102.8,
          11,
          18.4,
          34.2,
          64.4,
          38.6,
          17.8,
          29.9,
          32.2,
          15.6,
          25.9,
          20,
          42
         ],
         "yaxis": "y"
        }
       ],
       "layout": {
        "legend": {
         "title": {
          "text": "Continent"
         },
         "tracegroupgap": 0
        },
        "template": {
         "data": {
          "bar": [
           {
            "error_x": {
             "color": "#2a3f5f"
            },
            "error_y": {
             "color": "#2a3f5f"
            },
            "marker": {
             "line": {
              "color": "#E5ECF6",
              "width": 0.5
             },
             "pattern": {
              "fillmode": "overlay",
              "size": 10,
              "solidity": 0.2
             }
            },
            "type": "bar"
           }
          ],
          "barpolar": [
           {
            "marker": {
             "line": {
              "color": "#E5ECF6",
              "width": 0.5
             },
             "pattern": {
              "fillmode": "overlay",
              "size": 10,
              "solidity": 0.2
             }
            },
            "type": "barpolar"
           }
          ],
          "carpet": [
           {
            "aaxis": {
             "endlinecolor": "#2a3f5f",
             "gridcolor": "white",
             "linecolor": "white",
             "minorgridcolor": "white",
             "startlinecolor": "#2a3f5f"
            },
            "baxis": {
             "endlinecolor": "#2a3f5f",
             "gridcolor": "white",
             "linecolor": "white",
             "minorgridcolor": "white",
             "startlinecolor": "#2a3f5f"
            },
            "type": "carpet"
           }
          ],
          "choropleth": [
           {
            "colorbar": {
             "outlinewidth": 0,
             "ticks": ""
            },
            "type": "choropleth"
           }
          ],
          "contour": [
           {
            "colorbar": {
             "outlinewidth": 0,
             "ticks": ""
            },
            "colorscale": [
             [
              0,
              "#0d0887"
             ],
             [
              0.1111111111111111,
              "#46039f"
             ],
             [
              0.2222222222222222,
              "#7201a8"
             ],
             [
              0.3333333333333333,
              "#9c179e"
             ],
             [
              0.4444444444444444,
              "#bd3786"
             ],
             [
              0.5555555555555556,
              "#d8576b"
             ],
             [
              0.6666666666666666,
              "#ed7953"
             ],
             [
              0.7777777777777778,
              "#fb9f3a"
             ],
             [
              0.8888888888888888,
              "#fdca26"
             ],
             [
              1,
              "#f0f921"
             ]
            ],
            "type": "contour"
           }
          ],
          "contourcarpet": [
           {
            "colorbar": {
             "outlinewidth": 0,
             "ticks": ""
            },
            "type": "contourcarpet"
           }
          ],
          "heatmap": [
           {
            "colorbar": {
             "outlinewidth": 0,
             "ticks": ""
            },
            "colorscale": [
             [
              0,
              "#0d0887"
             ],
             [
              0.1111111111111111,
              "#46039f"
             ],
             [
              0.2222222222222222,
              "#7201a8"
             ],
             [
              0.3333333333333333,
              "#9c179e"
             ],
             [
              0.4444444444444444,
              "#bd3786"
             ],
             [
              0.5555555555555556,
              "#d8576b"
             ],
             [
              0.6666666666666666,
              "#ed7953"
             ],
             [
              0.7777777777777778,
              "#fb9f3a"
             ],
             [
              0.8888888888888888,
              "#fdca26"
             ],
             [
              1,
              "#f0f921"
             ]
            ],
            "type": "heatmap"
           }
          ],
          "heatmapgl": [
           {
            "colorbar": {
             "outlinewidth": 0,
             "ticks": ""
            },
            "colorscale": [
             [
              0,
              "#0d0887"
             ],
             [
              0.1111111111111111,
              "#46039f"
             ],
             [
              0.2222222222222222,
              "#7201a8"
             ],
             [
              0.3333333333333333,
              "#9c179e"
             ],
             [
              0.4444444444444444,
              "#bd3786"
             ],
             [
              0.5555555555555556,
              "#d8576b"
             ],
             [
              0.6666666666666666,
              "#ed7953"
             ],
             [
              0.7777777777777778,
              "#fb9f3a"
             ],
             [
              0.8888888888888888,
              "#fdca26"
             ],
             [
              1,
              "#f0f921"
             ]
            ],
            "type": "heatmapgl"
           }
          ],
          "histogram": [
           {
            "marker": {
             "pattern": {
              "fillmode": "overlay",
              "size": 10,
              "solidity": 0.2
             }
            },
            "type": "histogram"
           }
          ],
          "histogram2d": [
           {
            "colorbar": {
             "outlinewidth": 0,
             "ticks": ""
            },
            "colorscale": [
             [
              0,
              "#0d0887"
             ],
             [
              0.1111111111111111,
              "#46039f"
             ],
             [
              0.2222222222222222,
              "#7201a8"
             ],
             [
              0.3333333333333333,
              "#9c179e"
             ],
             [
              0.4444444444444444,
              "#bd3786"
             ],
             [
              0.5555555555555556,
              "#d8576b"
             ],
             [
              0.6666666666666666,
              "#ed7953"
             ],
             [
              0.7777777777777778,
              "#fb9f3a"
             ],
             [
              0.8888888888888888,
              "#fdca26"
             ],
             [
              1,
              "#f0f921"
             ]
            ],
            "type": "histogram2d"
           }
          ],
          "histogram2dcontour": [
           {
            "colorbar": {
             "outlinewidth": 0,
             "ticks": ""
            },
            "colorscale": [
             [
              0,
              "#0d0887"
             ],
             [
              0.1111111111111111,
              "#46039f"
             ],
             [
              0.2222222222222222,
              "#7201a8"
             ],
             [
              0.3333333333333333,
              "#9c179e"
             ],
             [
              0.4444444444444444,
              "#bd3786"
             ],
             [
              0.5555555555555556,
              "#d8576b"
             ],
             [
              0.6666666666666666,
              "#ed7953"
             ],
             [
              0.7777777777777778,
              "#fb9f3a"
             ],
             [
              0.8888888888888888,
              "#fdca26"
             ],
             [
              1,
              "#f0f921"
             ]
            ],
            "type": "histogram2dcontour"
           }
          ],
          "mesh3d": [
           {
            "colorbar": {
             "outlinewidth": 0,
             "ticks": ""
            },
            "type": "mesh3d"
           }
          ],
          "parcoords": [
           {
            "line": {
             "colorbar": {
              "outlinewidth": 0,
              "ticks": ""
             }
            },
            "type": "parcoords"
           }
          ],
          "pie": [
           {
            "automargin": true,
            "type": "pie"
           }
          ],
          "scatter": [
           {
            "fillpattern": {
             "fillmode": "overlay",
             "size": 10,
             "solidity": 0.2
            },
            "type": "scatter"
           }
          ],
          "scatter3d": [
           {
            "line": {
             "colorbar": {
              "outlinewidth": 0,
              "ticks": ""
             }
            },
            "marker": {
             "colorbar": {
              "outlinewidth": 0,
              "ticks": ""
             }
            },
            "type": "scatter3d"
           }
          ],
          "scattercarpet": [
           {
            "marker": {
             "colorbar": {
              "outlinewidth": 0,
              "ticks": ""
             }
            },
            "type": "scattercarpet"
           }
          ],
          "scattergeo": [
           {
            "marker": {
             "colorbar": {
              "outlinewidth": 0,
              "ticks": ""
             }
            },
            "type": "scattergeo"
           }
          ],
          "scattergl": [
           {
            "marker": {
             "colorbar": {
              "outlinewidth": 0,
              "ticks": ""
             }
            },
            "type": "scattergl"
           }
          ],
          "scattermapbox": [
           {
            "marker": {
             "colorbar": {
              "outlinewidth": 0,
              "ticks": ""
             }
            },
            "type": "scattermapbox"
           }
          ],
          "scatterpolar": [
           {
            "marker": {
             "colorbar": {
              "outlinewidth": 0,
              "ticks": ""
             }
            },
            "type": "scatterpolar"
           }
          ],
          "scatterpolargl": [
           {
            "marker": {
             "colorbar": {
              "outlinewidth": 0,
              "ticks": ""
             }
            },
            "type": "scatterpolargl"
           }
          ],
          "scatterternary": [
           {
            "marker": {
             "colorbar": {
              "outlinewidth": 0,
              "ticks": ""
             }
            },
            "type": "scatterternary"
           }
          ],
          "surface": [
           {
            "colorbar": {
             "outlinewidth": 0,
             "ticks": ""
            },
            "colorscale": [
             [
              0,
              "#0d0887"
             ],
             [
              0.1111111111111111,
              "#46039f"
             ],
             [
              0.2222222222222222,
              "#7201a8"
             ],
             [
              0.3333333333333333,
              "#9c179e"
             ],
             [
              0.4444444444444444,
              "#bd3786"
             ],
             [
              0.5555555555555556,
              "#d8576b"
             ],
             [
              0.6666666666666666,
              "#ed7953"
             ],
             [
              0.7777777777777778,
              "#fb9f3a"
             ],
             [
              0.8888888888888888,
              "#fdca26"
             ],
             [
              1,
              "#f0f921"
             ]
            ],
            "type": "surface"
           }
          ],
          "table": [
           {
            "cells": {
             "fill": {
              "color": "#EBF0F8"
             },
             "line": {
              "color": "white"
             }
            },
            "header": {
             "fill": {
              "color": "#C8D4E3"
             },
             "line": {
              "color": "white"
             }
            },
            "type": "table"
           }
          ]
         },
         "layout": {
          "annotationdefaults": {
           "arrowcolor": "#2a3f5f",
           "arrowhead": 0,
           "arrowwidth": 1
          },
          "autotypenumbers": "strict",
          "coloraxis": {
           "colorbar": {
            "outlinewidth": 0,
            "ticks": ""
           }
          },
          "colorscale": {
           "diverging": [
            [
             0,
             "#8e0152"
            ],
            [
             0.1,
             "#c51b7d"
            ],
            [
             0.2,
             "#de77ae"
            ],
            [
             0.3,
             "#f1b6da"
            ],
            [
             0.4,
             "#fde0ef"
            ],
            [
             0.5,
             "#f7f7f7"
            ],
            [
             0.6,
             "#e6f5d0"
            ],
            [
             0.7,
             "#b8e186"
            ],
            [
             0.8,
             "#7fbc41"
            ],
            [
             0.9,
             "#4d9221"
            ],
            [
             1,
             "#276419"
            ]
           ],
           "sequential": [
            [
             0,
             "#0d0887"
            ],
            [
             0.1111111111111111,
             "#46039f"
            ],
            [
             0.2222222222222222,
             "#7201a8"
            ],
            [
             0.3333333333333333,
             "#9c179e"
            ],
            [
             0.4444444444444444,
             "#bd3786"
            ],
            [
             0.5555555555555556,
             "#d8576b"
            ],
            [
             0.6666666666666666,
             "#ed7953"
            ],
            [
             0.7777777777777778,
             "#fb9f3a"
            ],
            [
             0.8888888888888888,
             "#fdca26"
            ],
            [
             1,
             "#f0f921"
            ]
           ],
           "sequentialminus": [
            [
             0,
             "#0d0887"
            ],
            [
             0.1111111111111111,
             "#46039f"
            ],
            [
             0.2222222222222222,
             "#7201a8"
            ],
            [
             0.3333333333333333,
             "#9c179e"
            ],
            [
             0.4444444444444444,
             "#bd3786"
            ],
            [
             0.5555555555555556,
             "#d8576b"
            ],
            [
             0.6666666666666666,
             "#ed7953"
            ],
            [
             0.7777777777777778,
             "#fb9f3a"
            ],
            [
             0.8888888888888888,
             "#fdca26"
            ],
            [
             1,
             "#f0f921"
            ]
           ]
          },
          "colorway": [
           "#636efa",
           "#EF553B",
           "#00cc96",
           "#ab63fa",
           "#FFA15A",
           "#19d3f3",
           "#FF6692",
           "#B6E880",
           "#FF97FF",
           "#FECB52"
          ],
          "font": {
           "color": "#2a3f5f"
          },
          "geo": {
           "bgcolor": "white",
           "lakecolor": "white",
           "landcolor": "#E5ECF6",
           "showlakes": true,
           "showland": true,
           "subunitcolor": "white"
          },
          "hoverlabel": {
           "align": "left"
          },
          "hovermode": "closest",
          "mapbox": {
           "style": "light"
          },
          "paper_bgcolor": "white",
          "plot_bgcolor": "#E5ECF6",
          "polar": {
           "angularaxis": {
            "gridcolor": "white",
            "linecolor": "white",
            "ticks": ""
           },
           "bgcolor": "#E5ECF6",
           "radialaxis": {
            "gridcolor": "white",
            "linecolor": "white",
            "ticks": ""
           }
          },
          "scene": {
           "xaxis": {
            "backgroundcolor": "#E5ECF6",
            "gridcolor": "white",
            "gridwidth": 2,
            "linecolor": "white",
            "showbackground": true,
            "ticks": "",
            "zerolinecolor": "white"
           },
           "yaxis": {
            "backgroundcolor": "#E5ECF6",
            "gridcolor": "white",
            "gridwidth": 2,
            "linecolor": "white",
            "showbackground": true,
            "ticks": "",
            "zerolinecolor": "white"
           },
           "zaxis": {
            "backgroundcolor": "#E5ECF6",
            "gridcolor": "white",
            "gridwidth": 2,
            "linecolor": "white",
            "showbackground": true,
            "ticks": "",
            "zerolinecolor": "white"
           }
          },
          "shapedefaults": {
           "line": {
            "color": "#2a3f5f"
           }
          },
          "ternary": {
           "aaxis": {
            "gridcolor": "white",
            "linecolor": "white",
            "ticks": ""
           },
           "baxis": {
            "gridcolor": "white",
            "linecolor": "white",
            "ticks": ""
           },
           "bgcolor": "#E5ECF6",
           "caxis": {
            "gridcolor": "white",
            "linecolor": "white",
            "ticks": ""
           }
          },
          "title": {
           "x": 0.05
          },
          "xaxis": {
           "automargin": true,
           "gridcolor": "white",
           "linecolor": "white",
           "ticks": "",
           "title": {
            "standoff": 15
           },
           "zerolinecolor": "white",
           "zerolinewidth": 2
          },
          "yaxis": {
           "automargin": true,
           "gridcolor": "white",
           "linecolor": "white",
           "ticks": "",
           "title": {
            "standoff": 15
           },
           "zerolinecolor": "white",
           "zerolinewidth": 2
          }
         }
        },
        "title": {
         "text": "Local Purchasing Power Index vs Cost of Living Plus Rent Index"
        },
        "xaxis": {
         "anchor": "y",
         "domain": [
          0,
          1
         ],
         "range": [
          0,
          200
         ],
         "title": {
          "text": "Cost of Living Plus Rent Index"
         }
        },
        "yaxis": {
         "anchor": "x",
         "domain": [
          0,
          1
         ],
         "range": [
          0,
          200
         ],
         "title": {
          "text": "Local Purchasing Power Index"
         }
        }
       }
      }
     },
     "metadata": {},
     "output_type": "display_data"
    }
   ],
   "source": [
    "px.scatter(df, x='Cost of Living Plus Rent Index', \n",
    "           y='Local Purchasing Power Index', \n",
    "           color='Continent',\n",
    "           range_x=(0,200), \n",
    "           range_y=(0,200),\n",
    "           hover_name='Country',\n",
    "           title='Local Purchasing Power Index vs Cost of Living Plus Rent Index')"
   ]
  },
  {
   "cell_type": "markdown",
   "metadata": {},
   "source": [
    "Observations about Cost of Living (with and without Rent) compares to Local Purchasing Power."
   ]
  },
  {
   "cell_type": "code",
   "execution_count": 158,
   "metadata": {},
   "outputs": [
    {
     "data": {
      "application/vnd.plotly.v1+json": {
       "config": {
        "plotlyServerURL": "https://plot.ly"
       },
       "data": [
        {
         "hovertemplate": "<b>%{hovertext}</b><br><br>Continent=Europe<br>Groceries Index=%{x}<br>Restaurant Price Index=%{y}<extra></extra>",
         "hovertext": [
          "Switzerland",
          "Iceland",
          "Norway",
          "Denmark",
          "Austria",
          "Ireland",
          "France",
          "Finland",
          "Netherlands",
          "Luxembourg",
          "Germany",
          "United Kingdom",
          "Belgium",
          "Sweden",
          "Italy",
          "Cyprus",
          "Malta",
          "Greece",
          "Estonia",
          "Slovenia",
          "Latvia",
          "Spain",
          "Lithuania",
          "Slovakia",
          "Czech Republic",
          "Croatia",
          "Portugal",
          "Albania",
          "Hungary",
          "Poland",
          "Montenegro",
          "Bulgaria",
          "Serbia",
          "Romania",
          "Turkey",
          "Bosnia And Herzegovina",
          "Moldova",
          "Georgia",
          "North Macedonia",
          "Kosovo (Disputed Territory)",
          "Belarus",
          "Ukraine"
         ],
         "legendgroup": "Europe",
         "marker": {
          "color": "#636efa",
          "symbol": "circle"
         },
         "mode": "markers",
         "name": "Europe",
         "orientation": "v",
         "showlegend": true,
         "type": "scatter",
         "x": [
          109.1,
          88.4,
          79,
          64.8,
          66.4,
          59.3,
          69.5,
          63,
          59.9,
          64.1,
          60.8,
          56.9,
          57.5,
          60.8,
          57,
          49.6,
          50.6,
          48.4,
          46.4,
          49,
          42.8,
          46,
          44.2,
          46.7,
          44.4,
          43.5,
          43.8,
          42,
          39.8,
          36.8,
          36.7,
          38.2,
          36,
          36.6,
          37.6,
          34.5,
          31.6,
          33.3,
          32.1,
          29.4,
          25.4,
          25.4
         ],
         "xaxis": "x",
         "y": [
          97,
          86.8,
          73.5,
          81.3,
          59.3,
          65.3,
          56.3,
          63.6,
          61.2,
          68.7,
          52.8,
          62.7,
          66,
          54.7,
          53.3,
          53.2,
          56.2,
          51.3,
          50.6,
          43.4,
          44.9,
          44.1,
          43.5,
          34.5,
          34.1,
          42.2,
          36.9,
          35.7,
          37,
          35,
          36.3,
          34.7,
          31.2,
          35.5,
          30.7,
          22.4,
          26.6,
          31.6,
          22.1,
          20.6,
          24.9,
          20.7
         ],
         "yaxis": "y"
        },
        {
         "hovertemplate": "<b>OLS trendline</b><br>Restaurant Price Index = 1.01822 * Groceries Index + -3.40309<br>R<sup>2</sup>=0.883925<br><br>Continent=Europe<br>Groceries Index=%{x}<br>Restaurant Price Index=%{y} <b>(trend)</b><extra></extra>",
         "legendgroup": "Europe",
         "marker": {
          "color": "#636efa",
          "symbol": "circle"
         },
         "mode": "lines",
         "name": "Europe",
         "showlegend": false,
         "type": "scatter",
         "x": [
          25.4,
          25.4,
          29.4,
          31.6,
          32.1,
          33.3,
          34.5,
          36,
          36.6,
          36.7,
          36.8,
          37.6,
          38.2,
          39.8,
          42,
          42.8,
          43.5,
          43.8,
          44.2,
          44.4,
          46,
          46.4,
          46.7,
          48.4,
          49,
          49.6,
          50.6,
          56.9,
          57,
          57.5,
          59.3,
          59.9,
          60.8,
          60.8,
          63,
          64.1,
          64.8,
          66.4,
          69.5,
          79,
          88.4,
          109.1
         ],
         "xaxis": "x",
         "y": [
          22.459689082408683,
          22.459689082408683,
          26.53256731284018,
          28.772650339577503,
          29.28176011838144,
          30.503623587510887,
          31.725487056640333,
          33.25281639305214,
          33.86374812761687,
          33.96557008337766,
          34.06739203913844,
          34.881967685224744,
          35.492899419789474,
          37.12205071196206,
          39.362133738699384,
          40.17670938478568,
          40.889463075111195,
          41.19492894239356,
          41.602216765436715,
          41.80586067695828,
          43.43501196913088,
          43.84229979217403,
          44.1477656594564,
          45.878738907389774,
          46.489670641954504,
          47.10060237651923,
          48.118821934127105,
          54.533605147056704,
          54.635427102817495,
          55.14453688162143,
          56.977332085315595,
          57.588263819880325,
          58.504661421727405,
          58.504661421727405,
          60.74474444846473,
          61.86478596183339,
          62.577539652158904,
          64.20669094433151,
          67.36317157291592,
          77.03625737019071,
          86.60752121170474,
          107.6846660541877
         ],
         "yaxis": "y"
        },
        {
         "hovertemplate": "<b>%{hovertext}</b><br><br>Continent=North America<br>Groceries Index=%{x}<br>Restaurant Price Index=%{y}<extra></extra>",
         "hovertext": [
          "Bahamas",
          "Barbados",
          "United States",
          "Canada",
          "Puerto Rico",
          "Jamaica",
          "Trinidad And Tobago",
          "Costa Rica",
          "Cuba",
          "Panama",
          "Mexico",
          "Guatemala",
          "Dominican Republic"
         ],
         "legendgroup": "North America",
         "marker": {
          "color": "#EF553B",
          "symbol": "circle"
         },
         "mode": "markers",
         "name": "North America",
         "orientation": "v",
         "showlegend": true,
         "type": "scatter",
         "x": [
          81.6,
          80.8,
          75,
          71.2,
          64.1,
          62,
          55.3,
          56.1,
          43,
          48.3,
          43.4,
          41.8,
          37.6
         ],
         "xaxis": "x",
         "y": [
          83.3,
          69.4,
          67.2,
          61.7,
          53.1,
          38.8,
          43.9,
          43.1,
          26,
          42.2,
          35.7,
          31.1,
          33.1
         ],
         "yaxis": "y"
        },
        {
         "hovertemplate": "<b>OLS trendline</b><br>Restaurant Price Index = 1.06126 * Groceries Index + -13.7055<br>R<sup>2</sup>=0.883006<br><br>Continent=North America<br>Groceries Index=%{x}<br>Restaurant Price Index=%{y} <b>(trend)</b><extra></extra>",
         "legendgroup": "North America",
         "marker": {
          "color": "#EF553B",
          "symbol": "circle"
         },
         "mode": "lines",
         "name": "North America",
         "showlegend": false,
         "type": "scatter",
         "x": [
          37.6,
          41.8,
          43,
          43.4,
          48.3,
          55.3,
          56.1,
          62,
          64.1,
          71.2,
          75,
          80.8,
          81.6
         ],
         "xaxis": "x",
         "y": [
          26.19794843934988,
          30.65525136938487,
          31.928766492252016,
          32.353271533207725,
          37.553458284915216,
          44.98229650164021,
          45.83130658355164,
          52.09275593764841,
          54.321407402665905,
          61.856371879629826,
          65.88916976870911,
          72.04449286256695,
          72.89350294447839
         ],
         "yaxis": "y"
        },
        {
         "hovertemplate": "<b>%{hovertext}</b><br><br>Continent=Asia<br>Groceries Index=%{x}<br>Restaurant Price Index=%{y}<extra></extra>",
         "hovertext": [
          "Singapore",
          "Hong Kong (China)",
          "South Korea",
          "Japan",
          "Taiwan",
          "Cambodia",
          "Sri Lanka",
          "Thailand",
          "Kazakhstan",
          "China",
          "Philippines",
          "Russia",
          "Malaysia",
          "Vietnam",
          "Kyrgyzstan",
          "Indonesia",
          "Uzbekistan",
          "Nepal",
          "Bangladesh",
          "India",
          "Pakistan"
         ],
         "legendgroup": "Asia",
         "marker": {
          "color": "#00cc96",
          "symbol": "circle"
         },
         "mode": "markers",
         "name": "Asia",
         "orientation": "v",
         "showlegend": true,
         "type": "scatter",
         "x": [
          74.6,
          84.6,
          81.4,
          53.7,
          60.1,
          43.5,
          49.3,
          40.5,
          32.2,
          36.8,
          35,
          28.8,
          36.3,
          33.9,
          28.2,
          33.4,
          28.4,
          25.6,
          25.7,
          23.8,
          17.5
         ],
         "xaxis": "x",
         "y": [
          50.4,
          46.2,
          31.4,
          27.8,
          23,
          22.7,
          18.5,
          18.3,
          28.7,
          20.6,
          16.8,
          28,
          18.9,
          14.8,
          20.2,
          13.5,
          18.6,
          16.2,
          12.8,
          15.1,
          12.9
         ],
         "yaxis": "y"
        },
        {
         "hovertemplate": "<b>OLS trendline</b><br>Restaurant Price Index = 0.425845 * Groceries Index + 4.92903<br>R<sup>2</sup>=0.649627<br><br>Continent=Asia<br>Groceries Index=%{x}<br>Restaurant Price Index=%{y} <b>(trend)</b><extra></extra>",
         "legendgroup": "Asia",
         "marker": {
          "color": "#00cc96",
          "symbol": "circle"
         },
         "mode": "lines",
         "name": "Asia",
         "showlegend": false,
         "type": "scatter",
         "x": [
          17.5,
          23.8,
          25.6,
          25.7,
          28.2,
          28.4,
          28.8,
          32.2,
          33.4,
          33.9,
          35,
          36.3,
          36.8,
          40.5,
          43.5,
          49.3,
          53.7,
          60.1,
          74.6,
          81.4,
          84.6
         ],
         "xaxis": "x",
         "y": [
          12.381316447547592,
          15.064139369630336,
          15.830660204511123,
          15.873244695337831,
          16.937856966005587,
          17.023025947659008,
          17.19336391096585,
          18.641236599074,
          19.152250488994518,
          19.36517294312807,
          19.833602342221884,
          20.387200722969116,
          20.600123177102667,
          22.175749337690945,
          23.45328406249225,
          25.923184530441446,
          27.796902126816697,
          30.52230953972615,
          36.697060709599135,
          39.59280608581543,
          40.955509792270156
         ],
         "yaxis": "y"
        },
        {
         "hovertemplate": "<b>%{hovertext}</b><br><br>Continent=Oceania<br>Groceries Index=%{x}<br>Restaurant Price Index=%{y}<extra></extra>",
         "hovertext": [
          "Australia",
          "New Zealand",
          "Fiji"
         ],
         "legendgroup": "Oceania",
         "marker": {
          "color": "#ab63fa",
          "symbol": "circle"
         },
         "mode": "markers",
         "name": "Oceania",
         "orientation": "v",
         "showlegend": true,
         "type": "scatter",
         "x": [
          77.3,
          71.9,
          43.7
         ],
         "xaxis": "x",
         "y": [
          62.5,
          57.1,
          28.4
         ],
         "yaxis": "y"
        },
        {
         "hovertemplate": "<b>OLS trendline</b><br>Restaurant Price Index = 1.01582 * Groceries Index + -15.9838<br>R<sup>2</sup>=0.999994<br><br>Continent=Oceania<br>Groceries Index=%{x}<br>Restaurant Price Index=%{y} <b>(trend)</b><extra></extra>",
         "legendgroup": "Oceania",
         "marker": {
          "color": "#ab63fa",
          "symbol": "circle"
         },
         "mode": "lines",
         "name": "Oceania",
         "showlegend": false,
         "type": "scatter",
         "x": [
          43.7,
          71.9,
          77.3
         ],
         "xaxis": "x",
         "y": [
          28.407464061924063,
          57.05355694802799,
          62.538978990047895
         ],
         "yaxis": "y"
        },
        {
         "hovertemplate": "<b>%{hovertext}</b><br><br>Continent=Middle East<br>Groceries Index=%{x}<br>Restaurant Price Index=%{y}<extra></extra>",
         "hovertext": [
          "Israel",
          "United Arab Emirates",
          "Bahrain",
          "Qatar",
          "Saudi Arabia",
          "Oman",
          "Kuwait",
          "Lebanon",
          "Palestine",
          "Jordan",
          "Armenia",
          "Azerbaijan",
          "Iraq",
          "Iran",
          "Syria"
         ],
         "legendgroup": "Middle East",
         "marker": {
          "color": "#FFA15A",
          "symbol": "circle"
         },
         "mode": "markers",
         "name": "Middle East",
         "orientation": "v",
         "showlegend": true,
         "type": "scatter",
         "x": [
          59.6,
          45.3,
          46.9,
          43.9,
          41.6,
          39.9,
          34.5,
          32.2,
          40.7,
          37.1,
          36,
          29,
          28.2,
          22,
          24.5
         ],
         "xaxis": "x",
         "y": [
          68,
          49.2,
          44.7,
          47.2,
          30.9,
          33.1,
          36.4,
          37.1,
          27.4,
          34.8,
          38.9,
          31.8,
          20.9,
          16.3,
          15.3
         ],
         "yaxis": "y"
        },
        {
         "hovertemplate": "<b>OLS trendline</b><br>Restaurant Price Index = 1.24912 * Groceries Index + -11.2837<br>R<sup>2</sup>=0.798508<br><br>Continent=Middle East<br>Groceries Index=%{x}<br>Restaurant Price Index=%{y} <b>(trend)</b><extra></extra>",
         "legendgroup": "Middle East",
         "marker": {
          "color": "#FFA15A",
          "symbol": "circle"
         },
         "mode": "lines",
         "name": "Middle East",
         "showlegend": false,
         "type": "scatter",
         "x": [
          22,
          24.5,
          28.2,
          29,
          32.2,
          34.5,
          36,
          37.1,
          39.9,
          40.7,
          41.6,
          43.9,
          45.3,
          46.9,
          59.6
         ],
         "xaxis": "x",
         "y": [
          16.196941538299754,
          19.319736232827665,
          23.941472380728975,
          24.94076668297791,
          28.93794389197364,
          31.81091501093931,
          33.68459182765606,
          35.05862149324834,
          38.5561515511196,
          39.55544585336853,
          40.67965194339858,
          43.552623062364255,
          45.301388091299884,
          47.299976695797746,
          63.163773743999535
         ],
         "yaxis": "y"
        },
        {
         "hovertemplate": "<b>%{hovertext}</b><br><br>Continent=South America<br>Groceries Index=%{x}<br>Restaurant Price Index=%{y}<extra></extra>",
         "hovertext": [
          "Uruguay",
          "El Salvador",
          "Chile",
          "Venezuela",
          "Ecuador",
          "Brazil",
          "Peru",
          "Argentina",
          "Colombia",
          "Bolivia",
          "Paraguay"
         ],
         "legendgroup": "South America",
         "marker": {
          "color": "#19d3f3",
          "symbol": "circle"
         },
         "mode": "markers",
         "name": "South America",
         "orientation": "v",
         "showlegend": true,
         "type": "scatter",
         "x": [
          52.1,
          43.4,
          41.6,
          39.5,
          34.9,
          29.5,
          31.5,
          29.7,
          30.3,
          27,
          24
         ],
         "xaxis": "x",
         "y": [
          50.2,
          29.6,
          34.8,
          37.7,
          24.5,
          22.6,
          21.3,
          24.8,
          20.5,
          19.4,
          17.6
         ],
         "yaxis": "y"
        },
        {
         "hovertemplate": "<b>OLS trendline</b><br>Restaurant Price Index = 1.09308 * Groceries Index + -10.5633<br>R<sup>2</sup>=0.868960<br><br>Continent=South America<br>Groceries Index=%{x}<br>Restaurant Price Index=%{y} <b>(trend)</b><extra></extra>",
         "legendgroup": "South America",
         "marker": {
          "color": "#19d3f3",
          "symbol": "circle"
         },
         "mode": "lines",
         "name": "South America",
         "showlegend": false,
         "type": "scatter",
         "x": [
          24,
          27,
          29.5,
          29.7,
          30.3,
          31.5,
          34.9,
          39.5,
          41.6,
          43.4,
          52.1
         ],
         "xaxis": "x",
         "y": [
          15.670635555807984,
          18.949874272614146,
          21.682573203285948,
          21.90118911773969,
          22.557036861100926,
          23.86873234782339,
          27.585202893537037,
          32.613368925973155,
          34.90883602773747,
          36.87637925782116,
          46.38617153655904
         ],
         "yaxis": "y"
        },
        {
         "hovertemplate": "<b>%{hovertext}</b><br><br>Continent=Africa<br>Groceries Index=%{x}<br>Restaurant Price Index=%{y}<extra></extra>",
         "hovertext": [
          "Cameroon",
          "Zimbabwe",
          "Mauritius",
          "South Africa",
          "Nigeria",
          "Ghana",
          "Kenya",
          "Botswana",
          "Morocco",
          "Uganda",
          "Algeria",
          "Tunisia",
          "Madagascar",
          "Tanzania",
          "Egypt",
          "Libya"
         ],
         "legendgroup": "Africa",
         "marker": {
          "color": "#FF6692",
          "symbol": "circle"
         },
         "mode": "markers",
         "name": "Africa",
         "orientation": "v",
         "showlegend": true,
         "type": "scatter",
         "x": [
          34.6,
          35.5,
          40.7,
          29.7,
          37.5,
          33.9,
          31,
          30,
          29.8,
          29.3,
          36.8,
          31.4,
          24.1,
          25.4,
          21.2,
          22.2
         ],
         "xaxis": "x",
         "y": [
          35.3,
          26.7,
          26.5,
          29.5,
          20.6,
          26.9,
          22.1,
          22.5,
          20.7,
          21.6,
          14,
          15,
          14.3,
          16.5,
          16.2,
          15.2
         ],
         "yaxis": "y"
        },
        {
         "hovertemplate": "<b>OLS trendline</b><br>Restaurant Price Index = 0.551657 * Groceries Index + 4.47361<br>R<sup>2</sup>=0.246312<br><br>Continent=Africa<br>Groceries Index=%{x}<br>Restaurant Price Index=%{y} <b>(trend)</b><extra></extra>",
         "legendgroup": "Africa",
         "marker": {
          "color": "#FF6692",
          "symbol": "circle"
         },
         "mode": "lines",
         "name": "Africa",
         "showlegend": false,
         "type": "scatter",
         "x": [
          21.2,
          22.2,
          24.1,
          25.4,
          29.3,
          29.7,
          29.8,
          30,
          31,
          31.4,
          33.9,
          34.6,
          35.5,
          36.8,
          37.5,
          40.7
         ],
         "xaxis": "x",
         "y": [
          16.168746439843495,
          16.7204037300482,
          17.768552581437145,
          18.485707058703262,
          20.637170490501624,
          20.857833406583506,
          20.912999135603975,
          21.023330593644918,
          21.574987883849623,
          21.795650799931508,
          23.174794025443273,
          23.56095412858657,
          24.057445689770805,
          24.774600167036926,
          25.16076027018022,
          26.926063598835285
         ],
         "yaxis": "y"
        }
       ],
       "layout": {
        "legend": {
         "title": {
          "text": "Continent"
         },
         "tracegroupgap": 0
        },
        "template": {
         "data": {
          "bar": [
           {
            "error_x": {
             "color": "#2a3f5f"
            },
            "error_y": {
             "color": "#2a3f5f"
            },
            "marker": {
             "line": {
              "color": "#E5ECF6",
              "width": 0.5
             },
             "pattern": {
              "fillmode": "overlay",
              "size": 10,
              "solidity": 0.2
             }
            },
            "type": "bar"
           }
          ],
          "barpolar": [
           {
            "marker": {
             "line": {
              "color": "#E5ECF6",
              "width": 0.5
             },
             "pattern": {
              "fillmode": "overlay",
              "size": 10,
              "solidity": 0.2
             }
            },
            "type": "barpolar"
           }
          ],
          "carpet": [
           {
            "aaxis": {
             "endlinecolor": "#2a3f5f",
             "gridcolor": "white",
             "linecolor": "white",
             "minorgridcolor": "white",
             "startlinecolor": "#2a3f5f"
            },
            "baxis": {
             "endlinecolor": "#2a3f5f",
             "gridcolor": "white",
             "linecolor": "white",
             "minorgridcolor": "white",
             "startlinecolor": "#2a3f5f"
            },
            "type": "carpet"
           }
          ],
          "choropleth": [
           {
            "colorbar": {
             "outlinewidth": 0,
             "ticks": ""
            },
            "type": "choropleth"
           }
          ],
          "contour": [
           {
            "colorbar": {
             "outlinewidth": 0,
             "ticks": ""
            },
            "colorscale": [
             [
              0,
              "#0d0887"
             ],
             [
              0.1111111111111111,
              "#46039f"
             ],
             [
              0.2222222222222222,
              "#7201a8"
             ],
             [
              0.3333333333333333,
              "#9c179e"
             ],
             [
              0.4444444444444444,
              "#bd3786"
             ],
             [
              0.5555555555555556,
              "#d8576b"
             ],
             [
              0.6666666666666666,
              "#ed7953"
             ],
             [
              0.7777777777777778,
              "#fb9f3a"
             ],
             [
              0.8888888888888888,
              "#fdca26"
             ],
             [
              1,
              "#f0f921"
             ]
            ],
            "type": "contour"
           }
          ],
          "contourcarpet": [
           {
            "colorbar": {
             "outlinewidth": 0,
             "ticks": ""
            },
            "type": "contourcarpet"
           }
          ],
          "heatmap": [
           {
            "colorbar": {
             "outlinewidth": 0,
             "ticks": ""
            },
            "colorscale": [
             [
              0,
              "#0d0887"
             ],
             [
              0.1111111111111111,
              "#46039f"
             ],
             [
              0.2222222222222222,
              "#7201a8"
             ],
             [
              0.3333333333333333,
              "#9c179e"
             ],
             [
              0.4444444444444444,
              "#bd3786"
             ],
             [
              0.5555555555555556,
              "#d8576b"
             ],
             [
              0.6666666666666666,
              "#ed7953"
             ],
             [
              0.7777777777777778,
              "#fb9f3a"
             ],
             [
              0.8888888888888888,
              "#fdca26"
             ],
             [
              1,
              "#f0f921"
             ]
            ],
            "type": "heatmap"
           }
          ],
          "heatmapgl": [
           {
            "colorbar": {
             "outlinewidth": 0,
             "ticks": ""
            },
            "colorscale": [
             [
              0,
              "#0d0887"
             ],
             [
              0.1111111111111111,
              "#46039f"
             ],
             [
              0.2222222222222222,
              "#7201a8"
             ],
             [
              0.3333333333333333,
              "#9c179e"
             ],
             [
              0.4444444444444444,
              "#bd3786"
             ],
             [
              0.5555555555555556,
              "#d8576b"
             ],
             [
              0.6666666666666666,
              "#ed7953"
             ],
             [
              0.7777777777777778,
              "#fb9f3a"
             ],
             [
              0.8888888888888888,
              "#fdca26"
             ],
             [
              1,
              "#f0f921"
             ]
            ],
            "type": "heatmapgl"
           }
          ],
          "histogram": [
           {
            "marker": {
             "pattern": {
              "fillmode": "overlay",
              "size": 10,
              "solidity": 0.2
             }
            },
            "type": "histogram"
           }
          ],
          "histogram2d": [
           {
            "colorbar": {
             "outlinewidth": 0,
             "ticks": ""
            },
            "colorscale": [
             [
              0,
              "#0d0887"
             ],
             [
              0.1111111111111111,
              "#46039f"
             ],
             [
              0.2222222222222222,
              "#7201a8"
             ],
             [
              0.3333333333333333,
              "#9c179e"
             ],
             [
              0.4444444444444444,
              "#bd3786"
             ],
             [
              0.5555555555555556,
              "#d8576b"
             ],
             [
              0.6666666666666666,
              "#ed7953"
             ],
             [
              0.7777777777777778,
              "#fb9f3a"
             ],
             [
              0.8888888888888888,
              "#fdca26"
             ],
             [
              1,
              "#f0f921"
             ]
            ],
            "type": "histogram2d"
           }
          ],
          "histogram2dcontour": [
           {
            "colorbar": {
             "outlinewidth": 0,
             "ticks": ""
            },
            "colorscale": [
             [
              0,
              "#0d0887"
             ],
             [
              0.1111111111111111,
              "#46039f"
             ],
             [
              0.2222222222222222,
              "#7201a8"
             ],
             [
              0.3333333333333333,
              "#9c179e"
             ],
             [
              0.4444444444444444,
              "#bd3786"
             ],
             [
              0.5555555555555556,
              "#d8576b"
             ],
             [
              0.6666666666666666,
              "#ed7953"
             ],
             [
              0.7777777777777778,
              "#fb9f3a"
             ],
             [
              0.8888888888888888,
              "#fdca26"
             ],
             [
              1,
              "#f0f921"
             ]
            ],
            "type": "histogram2dcontour"
           }
          ],
          "mesh3d": [
           {
            "colorbar": {
             "outlinewidth": 0,
             "ticks": ""
            },
            "type": "mesh3d"
           }
          ],
          "parcoords": [
           {
            "line": {
             "colorbar": {
              "outlinewidth": 0,
              "ticks": ""
             }
            },
            "type": "parcoords"
           }
          ],
          "pie": [
           {
            "automargin": true,
            "type": "pie"
           }
          ],
          "scatter": [
           {
            "fillpattern": {
             "fillmode": "overlay",
             "size": 10,
             "solidity": 0.2
            },
            "type": "scatter"
           }
          ],
          "scatter3d": [
           {
            "line": {
             "colorbar": {
              "outlinewidth": 0,
              "ticks": ""
             }
            },
            "marker": {
             "colorbar": {
              "outlinewidth": 0,
              "ticks": ""
             }
            },
            "type": "scatter3d"
           }
          ],
          "scattercarpet": [
           {
            "marker": {
             "colorbar": {
              "outlinewidth": 0,
              "ticks": ""
             }
            },
            "type": "scattercarpet"
           }
          ],
          "scattergeo": [
           {
            "marker": {
             "colorbar": {
              "outlinewidth": 0,
              "ticks": ""
             }
            },
            "type": "scattergeo"
           }
          ],
          "scattergl": [
           {
            "marker": {
             "colorbar": {
              "outlinewidth": 0,
              "ticks": ""
             }
            },
            "type": "scattergl"
           }
          ],
          "scattermapbox": [
           {
            "marker": {
             "colorbar": {
              "outlinewidth": 0,
              "ticks": ""
             }
            },
            "type": "scattermapbox"
           }
          ],
          "scatterpolar": [
           {
            "marker": {
             "colorbar": {
              "outlinewidth": 0,
              "ticks": ""
             }
            },
            "type": "scatterpolar"
           }
          ],
          "scatterpolargl": [
           {
            "marker": {
             "colorbar": {
              "outlinewidth": 0,
              "ticks": ""
             }
            },
            "type": "scatterpolargl"
           }
          ],
          "scatterternary": [
           {
            "marker": {
             "colorbar": {
              "outlinewidth": 0,
              "ticks": ""
             }
            },
            "type": "scatterternary"
           }
          ],
          "surface": [
           {
            "colorbar": {
             "outlinewidth": 0,
             "ticks": ""
            },
            "colorscale": [
             [
              0,
              "#0d0887"
             ],
             [
              0.1111111111111111,
              "#46039f"
             ],
             [
              0.2222222222222222,
              "#7201a8"
             ],
             [
              0.3333333333333333,
              "#9c179e"
             ],
             [
              0.4444444444444444,
              "#bd3786"
             ],
             [
              0.5555555555555556,
              "#d8576b"
             ],
             [
              0.6666666666666666,
              "#ed7953"
             ],
             [
              0.7777777777777778,
              "#fb9f3a"
             ],
             [
              0.8888888888888888,
              "#fdca26"
             ],
             [
              1,
              "#f0f921"
             ]
            ],
            "type": "surface"
           }
          ],
          "table": [
           {
            "cells": {
             "fill": {
              "color": "#EBF0F8"
             },
             "line": {
              "color": "white"
             }
            },
            "header": {
             "fill": {
              "color": "#C8D4E3"
             },
             "line": {
              "color": "white"
             }
            },
            "type": "table"
           }
          ]
         },
         "layout": {
          "annotationdefaults": {
           "arrowcolor": "#2a3f5f",
           "arrowhead": 0,
           "arrowwidth": 1
          },
          "autotypenumbers": "strict",
          "coloraxis": {
           "colorbar": {
            "outlinewidth": 0,
            "ticks": ""
           }
          },
          "colorscale": {
           "diverging": [
            [
             0,
             "#8e0152"
            ],
            [
             0.1,
             "#c51b7d"
            ],
            [
             0.2,
             "#de77ae"
            ],
            [
             0.3,
             "#f1b6da"
            ],
            [
             0.4,
             "#fde0ef"
            ],
            [
             0.5,
             "#f7f7f7"
            ],
            [
             0.6,
             "#e6f5d0"
            ],
            [
             0.7,
             "#b8e186"
            ],
            [
             0.8,
             "#7fbc41"
            ],
            [
             0.9,
             "#4d9221"
            ],
            [
             1,
             "#276419"
            ]
           ],
           "sequential": [
            [
             0,
             "#0d0887"
            ],
            [
             0.1111111111111111,
             "#46039f"
            ],
            [
             0.2222222222222222,
             "#7201a8"
            ],
            [
             0.3333333333333333,
             "#9c179e"
            ],
            [
             0.4444444444444444,
             "#bd3786"
            ],
            [
             0.5555555555555556,
             "#d8576b"
            ],
            [
             0.6666666666666666,
             "#ed7953"
            ],
            [
             0.7777777777777778,
             "#fb9f3a"
            ],
            [
             0.8888888888888888,
             "#fdca26"
            ],
            [
             1,
             "#f0f921"
            ]
           ],
           "sequentialminus": [
            [
             0,
             "#0d0887"
            ],
            [
             0.1111111111111111,
             "#46039f"
            ],
            [
             0.2222222222222222,
             "#7201a8"
            ],
            [
             0.3333333333333333,
             "#9c179e"
            ],
            [
             0.4444444444444444,
             "#bd3786"
            ],
            [
             0.5555555555555556,
             "#d8576b"
            ],
            [
             0.6666666666666666,
             "#ed7953"
            ],
            [
             0.7777777777777778,
             "#fb9f3a"
            ],
            [
             0.8888888888888888,
             "#fdca26"
            ],
            [
             1,
             "#f0f921"
            ]
           ]
          },
          "colorway": [
           "#636efa",
           "#EF553B",
           "#00cc96",
           "#ab63fa",
           "#FFA15A",
           "#19d3f3",
           "#FF6692",
           "#B6E880",
           "#FF97FF",
           "#FECB52"
          ],
          "font": {
           "color": "#2a3f5f"
          },
          "geo": {
           "bgcolor": "white",
           "lakecolor": "white",
           "landcolor": "#E5ECF6",
           "showlakes": true,
           "showland": true,
           "subunitcolor": "white"
          },
          "hoverlabel": {
           "align": "left"
          },
          "hovermode": "closest",
          "mapbox": {
           "style": "light"
          },
          "paper_bgcolor": "white",
          "plot_bgcolor": "#E5ECF6",
          "polar": {
           "angularaxis": {
            "gridcolor": "white",
            "linecolor": "white",
            "ticks": ""
           },
           "bgcolor": "#E5ECF6",
           "radialaxis": {
            "gridcolor": "white",
            "linecolor": "white",
            "ticks": ""
           }
          },
          "scene": {
           "xaxis": {
            "backgroundcolor": "#E5ECF6",
            "gridcolor": "white",
            "gridwidth": 2,
            "linecolor": "white",
            "showbackground": true,
            "ticks": "",
            "zerolinecolor": "white"
           },
           "yaxis": {
            "backgroundcolor": "#E5ECF6",
            "gridcolor": "white",
            "gridwidth": 2,
            "linecolor": "white",
            "showbackground": true,
            "ticks": "",
            "zerolinecolor": "white"
           },
           "zaxis": {
            "backgroundcolor": "#E5ECF6",
            "gridcolor": "white",
            "gridwidth": 2,
            "linecolor": "white",
            "showbackground": true,
            "ticks": "",
            "zerolinecolor": "white"
           }
          },
          "shapedefaults": {
           "line": {
            "color": "#2a3f5f"
           }
          },
          "ternary": {
           "aaxis": {
            "gridcolor": "white",
            "linecolor": "white",
            "ticks": ""
           },
           "baxis": {
            "gridcolor": "white",
            "linecolor": "white",
            "ticks": ""
           },
           "bgcolor": "#E5ECF6",
           "caxis": {
            "gridcolor": "white",
            "linecolor": "white",
            "ticks": ""
           }
          },
          "title": {
           "x": 0.05
          },
          "xaxis": {
           "automargin": true,
           "gridcolor": "white",
           "linecolor": "white",
           "ticks": "",
           "title": {
            "standoff": 15
           },
           "zerolinecolor": "white",
           "zerolinewidth": 2
          },
          "yaxis": {
           "automargin": true,
           "gridcolor": "white",
           "linecolor": "white",
           "ticks": "",
           "title": {
            "standoff": 15
           },
           "zerolinecolor": "white",
           "zerolinewidth": 2
          }
         }
        },
        "title": {
         "text": "Restaurant vs Groceries"
        },
        "xaxis": {
         "anchor": "y",
         "domain": [
          0,
          1
         ],
         "range": [
          0,
          150
         ],
         "title": {
          "text": "Groceries Index"
         }
        },
        "yaxis": {
         "anchor": "x",
         "domain": [
          0,
          1
         ],
         "range": [
          0,
          150
         ],
         "title": {
          "text": "Restaurant Price Index"
         }
        }
       }
      }
     },
     "metadata": {},
     "output_type": "display_data"
    }
   ],
   "source": [
    "px.scatter(df, x='Groceries Index', \n",
    "           y='Restaurant Price Index', \n",
    "           color='Continent',\n",
    "           range_x=(0,150), \n",
    "           range_y=(0,150),\n",
    "           hover_name='Country',\n",
    "           title='Restaurant vs Groceries',\n",
    "           trendline='ols')"
   ]
  },
  {
   "cell_type": "markdown",
   "metadata": {},
   "source": [
    "Observations about Groceries compares to Restaurant Prices.\n",
    "\n",
    "Based on the scatter plot of Restaurant Prices to Groceries, groceries tended to cost more than restaurants on average. Adding in a line of best fit to the data for each continent, the more horizontal line for Asia shows that grocery prices tend to be higher than restaurant prices on average. The lines that are closer to 45 degree angles show that grocery prices are close to restaurant prices on average."
   ]
  }
 ],
 "metadata": {
  "kernelspec": {
   "display_name": "Python 3",
   "language": "python",
   "name": "python3"
  },
  "language_info": {
   "codemirror_mode": {
    "name": "ipython",
    "version": 3
   },
   "file_extension": ".py",
   "mimetype": "text/x-python",
   "name": "python",
   "nbconvert_exporter": "python",
   "pygments_lexer": "ipython3",
   "version": "3.12.3"
  }
 },
 "nbformat": 4,
 "nbformat_minor": 2
}
